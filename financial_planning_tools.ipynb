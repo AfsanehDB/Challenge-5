{
 "cells": [
  {
   "cell_type": "markdown",
   "metadata": {},
   "source": [
    "# Financial Planning with APIs and Simulations\n",
    "\n",
    "In this Challenge, you’ll create two financial analysis tools by using a single Jupyter notebook:\n",
    "\n",
    "Part 1: A financial planner for emergencies. The members will be able to use this tool to visualize their current savings. The members can then determine if they have enough reserves for an emergency fund.\n",
    "\n",
    "Part 2: A financial planner for retirement. This tool will forecast the performance of their retirement portfolio in 30 years. To do this, the tool will make an Alpaca API call via the Alpaca SDK to get historical price data for use in Monte Carlo simulations.\n",
    "\n",
    "You’ll use the information from the Monte Carlo simulation to answer questions about the portfolio in your Jupyter notebook.\n",
    "\n"
   ]
  },
  {
   "cell_type": "code",
   "execution_count": 1,
   "metadata": {},
   "outputs": [],
   "source": [
    "# Import the required libraries and dependencies\n",
    "import os\n",
    "import requests\n",
    "import json\n",
    "import pandas as pd\n",
    "from dotenv import load_dotenv\n",
    "import alpaca_trade_api as tradeapi\n",
    "from MCForecastTools import MCSimulation\n",
    "\n",
    "%matplotlib inline"
   ]
  },
  {
   "cell_type": "code",
   "execution_count": 2,
   "metadata": {},
   "outputs": [
    {
     "data": {
      "text/plain": [
       "True"
      ]
     },
     "execution_count": 2,
     "metadata": {},
     "output_type": "execute_result"
    }
   ],
   "source": [
    "# Load the environment variables from the .env file\n",
    "#by calling the load_dotenv function\n",
    "load_dotenv()"
   ]
  },
  {
   "cell_type": "markdown",
   "metadata": {},
   "source": [
    "## Part 1: Create a Financial Planner for Emergencies"
   ]
  },
  {
   "cell_type": "markdown",
   "metadata": {},
   "source": [
    "### Evaluate the Cryptocurrency Wallet by Using the Requests Library\n",
    "\n",
    "In this section, you’ll determine the current value of a member’s cryptocurrency wallet. You’ll collect the current prices for the Bitcoin and Ethereum cryptocurrencies by using the Python Requests library. For the prototype, you’ll assume that the member holds the 1.2 Bitcoins (BTC) and 5.3 Ethereum coins (ETH). To do all this, complete the following steps:\n",
    "\n",
    "1. Create a variable named `monthly_income`, and set its value to `12000`.\n",
    "\n",
    "2. Use the Requests library to get the current price (in US dollars) of Bitcoin (BTC) and Ethereum (ETH) by using the API endpoints that the starter code supplies.\n",
    "\n",
    "3. Navigate the JSON response object to access the current price of each coin, and store each in a variable.\n",
    "\n",
    "    > **Hint** Note the specific identifier for each cryptocurrency in the API JSON response. The Bitcoin identifier is `1`, and the Ethereum identifier is `1027`.\n",
    "\n",
    "4. Calculate the value, in US dollars, of the current amount of each cryptocurrency and of the entire cryptocurrency wallet.\n",
    "\n"
   ]
  },
  {
   "cell_type": "code",
   "execution_count": 3,
   "metadata": {},
   "outputs": [],
   "source": [
    "# The current number of coins for each cryptocurrency asset held in the portfolio.\n",
    "btc_coins = 1.2\n",
    "eth_coins = 5.3"
   ]
  },
  {
   "cell_type": "markdown",
   "metadata": {},
   "source": [
    "#### Step 1: Create a variable named `monthly_income`, and set its value to `12000`."
   ]
  },
  {
   "cell_type": "code",
   "execution_count": 4,
   "metadata": {},
   "outputs": [],
   "source": [
    "# The monthly amount for the member's household income\n",
    "monthly_income = 12000\n"
   ]
  },
  {
   "cell_type": "markdown",
   "metadata": {},
   "source": [
    "#### Review the endpoint URLs for the API calls to Free Crypto API in order to get the current pricing information for both BTC and ETH."
   ]
  },
  {
   "cell_type": "code",
   "execution_count": 5,
   "metadata": {},
   "outputs": [],
   "source": [
    "# The Free Crypto API Call endpoint URLs for the held cryptocurrency assets\n",
    "btc_url = \"https://api.alternative.me/v2/ticker/Bitcoin/?convert=USD\"\n",
    "eth_url = \"https://api.alternative.me/v2/ticker/Ethereum/?convert=USD\""
   ]
  },
  {
   "cell_type": "markdown",
   "metadata": {},
   "source": [
    "#### Step 2. Use the Requests library to get the current price (in US dollars) of Bitcoin (BTC) and Ethereum (ETH) by using the API endpoints that the starter code supplied."
   ]
  },
  {
   "cell_type": "code",
   "execution_count": 6,
   "metadata": {},
   "outputs": [
    {
     "name": "stdout",
     "output_type": "stream",
     "text": [
      "{\n",
      "    \"data\": {\n",
      "        \"1\": {\n",
      "            \"circulating_supply\": 19325218,\n",
      "            \"id\": 1,\n",
      "            \"last_updated\": 1679528963,\n",
      "            \"max_supply\": 21000000,\n",
      "            \"name\": \"Bitcoin\",\n",
      "            \"quotes\": {\n",
      "                \"USD\": {\n",
      "                    \"market_cap\": 531093177181,\n",
      "                    \"percent_change_1h\": 0.51451690733453,\n",
      "                    \"percent_change_24h\": -2.82532408484159,\n",
      "                    \"percent_change_7d\": 10.8723685163929,\n",
      "                    \"percentage_change_1h\": 0.51451690733453,\n",
      "                    \"percentage_change_24h\": -2.82532408484159,\n",
      "                    \"percentage_change_7d\": 10.8723685163929,\n",
      "                    \"price\": 27451.0,\n",
      "                    \"volume_24h\": 35876544534\n",
      "                }\n",
      "            },\n",
      "            \"rank\": 1,\n",
      "            \"symbol\": \"BTC\",\n",
      "            \"total_supply\": 19325218,\n",
      "            \"website_slug\": \"bitcoin\"\n",
      "        }\n",
      "    },\n",
      "    \"metadata\": {\n",
      "        \"error\": null,\n",
      "        \"num_cryptocurrencies\": 3119,\n",
      "        \"timestamp\": 1679528963\n",
      "    }\n",
      "}\n"
     ]
    }
   ],
   "source": [
    "# Using the Python requests library, make an API call to access the current price of BTC\n",
    "btc_response =  requests.get(btc_url).json()\n",
    "\n",
    "# Use the json.dumps function to review the response data from the API call\n",
    "# Use the indent and sort_keys parameters to make the response object readable\n",
    "print(json.dumps(btc_response, indent=4, sort_keys=True))\n"
   ]
  },
  {
   "cell_type": "code",
   "execution_count": 7,
   "metadata": {},
   "outputs": [
    {
     "name": "stdout",
     "output_type": "stream",
     "text": [
      "{\n",
      "    \"data\": {\n",
      "        \"1027\": {\n",
      "            \"circulating_supply\": 120453489,\n",
      "            \"id\": 1027,\n",
      "            \"last_updated\": 1679528972,\n",
      "            \"max_supply\": 120453489,\n",
      "            \"name\": \"Ethereum\",\n",
      "            \"quotes\": {\n",
      "                \"USD\": {\n",
      "                    \"market_cap\": 210300384245,\n",
      "                    \"percent_change_1h\": 0.773091606442588,\n",
      "                    \"percent_change_24h\": -3.5301814965798,\n",
      "                    \"percent_change_7d\": 2.20701208978086,\n",
      "                    \"percentage_change_1h\": 0.773091606442588,\n",
      "                    \"percentage_change_24h\": -3.5301814965798,\n",
      "                    \"percentage_change_7d\": 2.20701208978086,\n",
      "                    \"price\": 1746.0,\n",
      "                    \"volume_24h\": 13809874288\n",
      "                }\n",
      "            },\n",
      "            \"rank\": 2,\n",
      "            \"symbol\": \"ETH\",\n",
      "            \"total_supply\": 120453489,\n",
      "            \"website_slug\": \"ethereum\"\n",
      "        }\n",
      "    },\n",
      "    \"metadata\": {\n",
      "        \"error\": null,\n",
      "        \"num_cryptocurrencies\": 3119,\n",
      "        \"timestamp\": 1679528972\n",
      "    }\n",
      "}\n"
     ]
    }
   ],
   "source": [
    "# Using the Python requests library, make an API call to access the current price ETH\n",
    "eth_response = requests.get(eth_url).json()\n",
    "\n",
    "# Use the json.dumps function to review the response data from the API call\n",
    "# Use the indent and sort_keys parameters to make the response object readable\n",
    "print(json.dumps(eth_response, indent=4, sort_keys=True))\n"
   ]
  },
  {
   "cell_type": "markdown",
   "metadata": {},
   "source": [
    "#### Step 3: Navigate the JSON response object to access the current price of each coin, and store each in a variable."
   ]
  },
  {
   "cell_type": "code",
   "execution_count": 8,
   "metadata": {},
   "outputs": [
    {
     "data": {
      "text/plain": [
       "27451.0"
      ]
     },
     "execution_count": 8,
     "metadata": {},
     "output_type": "execute_result"
    }
   ],
   "source": [
    "# Navigate the BTC response object to access the current price of BTC\n",
    "btc_price = btc_response[\"data\"][\"1\"][\"quotes\"][\"USD\"][\"price\"]\n",
    "\n",
    "# Print the current price of BTC\n",
    "btc_price\n"
   ]
  },
  {
   "cell_type": "code",
   "execution_count": 9,
   "metadata": {},
   "outputs": [
    {
     "data": {
      "text/plain": [
       "1746.0"
      ]
     },
     "execution_count": 9,
     "metadata": {},
     "output_type": "execute_result"
    }
   ],
   "source": [
    "# Navigate the BTC response object to access the current price of ETH\n",
    "eth_price = eth_response[\"data\"][\"1027\"][\"quotes\"][\"USD\"][\"price\"]\n",
    "# Print the current price of ETH\n",
    "eth_price\n"
   ]
  },
  {
   "cell_type": "markdown",
   "metadata": {},
   "source": [
    "### Step 4: Calculate the value, in US dollars, of the current amount of each cryptocurrency and of the entire cryptocurrency wallet."
   ]
  },
  {
   "cell_type": "code",
   "execution_count": 10,
   "metadata": {},
   "outputs": [
    {
     "data": {
      "text/plain": [
       "32941.2"
      ]
     },
     "execution_count": 10,
     "metadata": {},
     "output_type": "execute_result"
    }
   ],
   "source": [
    "# Compute the current value of the BTC holding \n",
    "btc_value = btc_price * btc_coins\n",
    "# Print current value of your holding in BTC\n",
    "btc_value\n"
   ]
  },
  {
   "cell_type": "code",
   "execution_count": 11,
   "metadata": {},
   "outputs": [
    {
     "data": {
      "text/plain": [
       "9253.8"
      ]
     },
     "execution_count": 11,
     "metadata": {},
     "output_type": "execute_result"
    }
   ],
   "source": [
    "# Compute the current value of the ETH holding \n",
    "eth_value = eth_price * eth_coins\n",
    "# Print current value of your holding in ETH\n",
    "eth_value\n"
   ]
  },
  {
   "cell_type": "code",
   "execution_count": 12,
   "metadata": {},
   "outputs": [
    {
     "data": {
      "text/plain": [
       "42195.0"
      ]
     },
     "execution_count": 12,
     "metadata": {},
     "output_type": "execute_result"
    }
   ],
   "source": [
    "# Compute the total value of the cryptocurrency wallet\n",
    "# Add the value of the BTC holding to the value of the ETH holding\n",
    "total_crypto_wallet = btc_value + eth_value\n",
    "# Print current cryptocurrency wallet balance\n",
    "total_crypto_wallet\n"
   ]
  },
  {
   "cell_type": "markdown",
   "metadata": {},
   "source": [
    "### Evaluate the Stock and Bond Holdings by Using the Alpaca SDK\n",
    "\n",
    "In this section, you’ll determine the current value of a member’s stock and bond holdings. You’ll make an API call to Alpaca via the Alpaca SDK to get the current closing prices of the SPDR S&P 500 ETF Trust (ticker: SPY) and of the iShares Core US Aggregate Bond ETF (ticker: AGG). For the prototype, assume that the member holds 110 shares of SPY, which represents the stock portion of their portfolio, and 200 shares of AGG, which represents the bond portion. To do all this, complete the following steps:\n",
    "\n",
    "1. In the `Starter_Code` folder, create an environment file (`.env`) to store the values of your Alpaca API key and Alpaca secret key.\n",
    "\n",
    "2. Set the variables for the Alpaca API and secret keys. Using the Alpaca SDK, create the Alpaca `tradeapi.REST` object. In this object, include the parameters for the Alpaca API key, the secret key, and the version number.\n",
    "\n",
    "3. Set the following parameters for the Alpaca API call:\n",
    "\n",
    "    - `tickers`: Use the tickers for the member’s stock and bond holdings.\n",
    "\n",
    "    - `timeframe`: Use a time frame of one day.\n",
    "\n",
    "    - `start_date` and `end_date`: Use the same date for these parameters, and format them with the date of the previous weekday (or `2020-08-07`). This is because you want the one closing price for the most-recent trading day.\n",
    "\n",
    "4. Get the current closing prices for `SPY` and `AGG` by using the Alpaca `get_bars` function. Format the response as a Pandas DataFrame by including the `df` property at the end of the `get_bars` function.\n",
    "\n",
    "5. Navigating the Alpaca response DataFrame, select the `SPY` and `AGG` closing prices, and store them as variables.\n",
    "\n",
    "6. Calculate the value, in US dollars, of the current amount of shares in each of the stock and bond portions of the portfolio, and print the results.\n"
   ]
  },
  {
   "cell_type": "markdown",
   "metadata": {},
   "source": [
    "#### Review the total number of shares held in both (SPY) and (AGG)."
   ]
  },
  {
   "cell_type": "code",
   "execution_count": 13,
   "metadata": {},
   "outputs": [],
   "source": [
    "# Current amount of shares held in both the stock (SPY) and bond (AGG) portion of the portfolio.\n",
    "spy_shares = 110\n",
    "agg_shares = 200\n"
   ]
  },
  {
   "cell_type": "markdown",
   "metadata": {},
   "source": [
    "#### Step 1: In the `Starter_Code` folder, create an environment file (`.env`) to store the values of your Alpaca API key and Alpaca secret key."
   ]
  },
  {
   "cell_type": "markdown",
   "metadata": {},
   "source": [
    "#### Step 2: Set the variables for the Alpaca API and secret keys. Using the Alpaca SDK, create the Alpaca `tradeapi.REST` object. In this object, include the parameters for the Alpaca API key, the secret key, and the version number."
   ]
  },
  {
   "cell_type": "code",
   "execution_count": 14,
   "metadata": {},
   "outputs": [
    {
     "data": {
      "text/plain": [
       "str"
      ]
     },
     "metadata": {},
     "output_type": "display_data"
    },
    {
     "data": {
      "text/plain": [
       "str"
      ]
     },
     "metadata": {},
     "output_type": "display_data"
    }
   ],
   "source": [
    "# Set the variables for the Alpaca API and secret keys\n",
    "alpaca_api_key = os.getenv(\"ALPACA_API_KEY\")\n",
    "alpaca_secret_key = os.getenv(\"ALPACA_SECRET_KEY\")\n",
    "display(type(alpaca_api_key))\n",
    "display(type(alpaca_secret_key))\n",
    "# Create the Alpaca tradeapi.REST object\n",
    "alpaca = tradeapi.REST(alpaca_api_key,\n",
    "                       alpaca_secret_key,\n",
    "                       api_version=\"v2\")\n"
   ]
  },
  {
   "cell_type": "markdown",
   "metadata": {},
   "source": [
    "#### Step 3: Set the following parameters for the Alpaca API call:\n",
    "\n",
    "- `tickers`: Use the tickers for the member’s stock and bond holdings.\n",
    "\n",
    "- `timeframe`: Use a time frame of one day.\n",
    "\n",
    "- `start_date` and `end_date`: Use the same date for these parameters, and format them with the date of the previous weekday (or `2020-08-07`). This is because you want the one closing price for the most-recent trading day.\n"
   ]
  },
  {
   "cell_type": "code",
   "execution_count": 15,
   "metadata": {},
   "outputs": [],
   "source": [
    "# Set the tickers for both the bond and stock portion of the portfolio\n",
    "tickers = [\"SPY\", \"AGG\"]\n",
    "\n",
    "# Set timeframe to 1Day\n",
    "timeframe = \"1D\"\n",
    "\n",
    "# Format current date as ISO format\n",
    "# Set both the start and end date at the date of your prior weekday \n",
    "# This will give you the closing price of the previous trading day\n",
    "# Alternatively you can use a start and end date of 2020-08-07\n",
    "start_date = pd.Timestamp(\"2023-03-21\", tz=\"America/New_York\").isoformat()\n",
    "end_date = pd.Timestamp(\"2023-03-21\", tz=\"America/New_York\").isoformat()\n"
   ]
  },
  {
   "cell_type": "markdown",
   "metadata": {},
   "source": [
    "#### Step 4: Get the current closing prices for `SPY` and `AGG` by using the Alpaca `get_bars` function. Format the response as a Pandas DataFrame by including the `df` property at the end of the `get_bars` function."
   ]
  },
  {
   "cell_type": "code",
   "execution_count": 16,
   "metadata": {},
   "outputs": [
    {
     "data": {
      "text/html": [
       "<div>\n",
       "<style scoped>\n",
       "    .dataframe tbody tr th:only-of-type {\n",
       "        vertical-align: middle;\n",
       "    }\n",
       "\n",
       "    .dataframe tbody tr th {\n",
       "        vertical-align: top;\n",
       "    }\n",
       "\n",
       "    .dataframe thead tr th {\n",
       "        text-align: left;\n",
       "    }\n",
       "\n",
       "    .dataframe thead tr:last-of-type th {\n",
       "        text-align: right;\n",
       "    }\n",
       "</style>\n",
       "<table border=\"1\" class=\"dataframe\">\n",
       "  <thead>\n",
       "    <tr>\n",
       "      <th></th>\n",
       "      <th colspan=\"7\" halign=\"left\">SPY</th>\n",
       "      <th colspan=\"7\" halign=\"left\">AGG</th>\n",
       "    </tr>\n",
       "    <tr>\n",
       "      <th></th>\n",
       "      <th>open</th>\n",
       "      <th>high</th>\n",
       "      <th>low</th>\n",
       "      <th>close</th>\n",
       "      <th>volume</th>\n",
       "      <th>trade_count</th>\n",
       "      <th>vwap</th>\n",
       "      <th>open</th>\n",
       "      <th>high</th>\n",
       "      <th>low</th>\n",
       "      <th>close</th>\n",
       "      <th>volume</th>\n",
       "      <th>trade_count</th>\n",
       "      <th>vwap</th>\n",
       "    </tr>\n",
       "    <tr>\n",
       "      <th>timestamp</th>\n",
       "      <th></th>\n",
       "      <th></th>\n",
       "      <th></th>\n",
       "      <th></th>\n",
       "      <th></th>\n",
       "      <th></th>\n",
       "      <th></th>\n",
       "      <th></th>\n",
       "      <th></th>\n",
       "      <th></th>\n",
       "      <th></th>\n",
       "      <th></th>\n",
       "      <th></th>\n",
       "      <th></th>\n",
       "    </tr>\n",
       "  </thead>\n",
       "  <tbody>\n",
       "    <tr>\n",
       "      <th>2023-03-21 04:00:00+00:00</th>\n",
       "      <td>397.24</td>\n",
       "      <td>399.41</td>\n",
       "      <td>395.58</td>\n",
       "      <td>398.91</td>\n",
       "      <td>89391720</td>\n",
       "      <td>612721</td>\n",
       "      <td>397.09009</td>\n",
       "      <td>98.85</td>\n",
       "      <td>99.03</td>\n",
       "      <td>98.7</td>\n",
       "      <td>98.8</td>\n",
       "      <td>5266122</td>\n",
       "      <td>24206</td>\n",
       "      <td>98.828501</td>\n",
       "    </tr>\n",
       "  </tbody>\n",
       "</table>\n",
       "</div>"
      ],
      "text/plain": [
       "                              SPY                                    \\\n",
       "                             open    high     low   close    volume   \n",
       "timestamp                                                             \n",
       "2023-03-21 04:00:00+00:00  397.24  399.41  395.58  398.91  89391720   \n",
       "\n",
       "                                                    AGG                     \\\n",
       "                          trade_count       vwap   open   high   low close   \n",
       "timestamp                                                                    \n",
       "2023-03-21 04:00:00+00:00      612721  397.09009  98.85  99.03  98.7  98.8   \n",
       "\n",
       "                                                           \n",
       "                            volume trade_count       vwap  \n",
       "timestamp                                                  \n",
       "2023-03-21 04:00:00+00:00  5266122       24206  98.828501  "
      ]
     },
     "execution_count": 16,
     "metadata": {},
     "output_type": "execute_result"
    }
   ],
   "source": [
    "# Use the Alpaca get_bars function to get current closing prices the portfolio\n",
    "# Be sure to set the `df` property after the function to format the response object as a DataFrame\n",
    "portfolio_close_df = alpaca.get_bars(tickers, timeframe, start = start_date, end = end_date).df\n",
    "portfolio_close_df\n",
    "\n",
    "\n",
    "# Reorganize the DataFrame\n",
    "# Separate ticker data\n",
    "SPY = portfolio_close_df[portfolio_close_df['symbol']=='SPY'].drop('symbol', axis=1)\n",
    "AGG = portfolio_close_df[portfolio_close_df['symbol']=='AGG'].drop('symbol', axis=1)\n",
    "# Concatenate the ticker DataFrames\n",
    "portfolio_close_df = pd.concat([SPY, AGG], axis=1, keys=[\"SPY\", \"AGG\"])\n",
    "\n",
    "# Review the first 5 rows of the Alpaca DataFrame\n",
    "portfolio_close_df.head()\n"
   ]
  },
  {
   "cell_type": "markdown",
   "metadata": {},
   "source": [
    "#### Step 5: Navigating the Alpaca response DataFrame, select the `SPY` and `AGG` closing prices, and store them as variables."
   ]
  },
  {
   "cell_type": "code",
   "execution_count": 26,
   "metadata": {},
   "outputs": [
    {
     "data": {
      "text/plain": [
       "98.8"
      ]
     },
     "execution_count": 26,
     "metadata": {},
     "output_type": "execute_result"
    }
   ],
   "source": [
    "# Access the closing price for AGG from the Alpaca DataFrame\n",
    "# Converting the value to a floating point number\n",
    "agg_close_price = portfolio_close_df[\"AGG\"][\"close\"].item()\n",
    "\n",
    "# Print the AGG closing price\n",
    "agg_close_price\n"
   ]
  },
  {
   "cell_type": "code",
   "execution_count": 27,
   "metadata": {},
   "outputs": [
    {
     "data": {
      "text/plain": [
       "398.91"
      ]
     },
     "execution_count": 27,
     "metadata": {},
     "output_type": "execute_result"
    }
   ],
   "source": [
    "# Access the closing price for SPY from the Alpaca DataFrame\n",
    "# Converting the value to a floating point number\n",
    "spy_close_price = portfolio_close_df[\"SPY\"][\"close\"].item()\n",
    "\n",
    "# Print the SPY closing price\n",
    "spy_close_price\n"
   ]
  },
  {
   "cell_type": "markdown",
   "metadata": {},
   "source": [
    "#### Step 6: Calculate the value, in US dollars, of the current amount of shares in each of the stock and bond portions of the portfolio, and print the results."
   ]
  },
  {
   "cell_type": "code",
   "execution_count": 28,
   "metadata": {},
   "outputs": [
    {
     "data": {
      "text/plain": [
       "19760.0"
      ]
     },
     "execution_count": 28,
     "metadata": {},
     "output_type": "execute_result"
    }
   ],
   "source": [
    "# Calculate the current value of the bond portion of the portfolio\n",
    "agg_value = agg_shares * agg_close_price\n",
    "\n",
    "# Print the current value of the bond portfolio\n",
    "agg_value\n"
   ]
  },
  {
   "cell_type": "code",
   "execution_count": 29,
   "metadata": {},
   "outputs": [
    {
     "data": {
      "text/plain": [
       "43880.100000000006"
      ]
     },
     "execution_count": 29,
     "metadata": {},
     "output_type": "execute_result"
    }
   ],
   "source": [
    "# Calculate the current value of the stock portion of the portfolio\n",
    "spy_value = spy_shares * spy_close_price\n",
    "\n",
    "# Print the current value of the stock portfolio\n",
    "spy_value\n"
   ]
  },
  {
   "cell_type": "code",
   "execution_count": 30,
   "metadata": {},
   "outputs": [
    {
     "data": {
      "text/plain": [
       "63640.100000000006"
      ]
     },
     "execution_count": 30,
     "metadata": {},
     "output_type": "execute_result"
    }
   ],
   "source": [
    "# Calculate the total value of the stock and bond portion of the portfolio\n",
    "total_stocks_bonds = spy_value + agg_value\n",
    "\n",
    "# Print the current balance of the stock and bond portion of the portfolio\n",
    "total_stocks_bonds"
   ]
  },
  {
   "cell_type": "code",
   "execution_count": 31,
   "metadata": {},
   "outputs": [
    {
     "data": {
      "text/plain": [
       "105835.1"
      ]
     },
     "execution_count": 31,
     "metadata": {},
     "output_type": "execute_result"
    }
   ],
   "source": [
    "# Calculate the total value of the member's entire savings portfolio\n",
    "# Add the value of the cryptocurrency walled to the value of the total stocks and bonds\n",
    "total_portfolio = total_crypto_wallet + total_stocks_bonds\n",
    "\n",
    "# Print current cryptocurrency wallet balance\n",
    "total_portfolio\n"
   ]
  },
  {
   "cell_type": "markdown",
   "metadata": {},
   "source": [
    "### Evaluate the Emergency Fund\n",
    "\n",
    "In this section, you’ll use the valuations for the cryptocurrency wallet and for the stock and bond portions of the portfolio to determine if the credit union member has enough savings to build an emergency fund into their financial plan. To do this, complete the following steps:\n",
    "\n",
    "1. Create a Python list named `savings_data` that has two elements. The first element contains the total value of the cryptocurrency wallet. The second element contains the total value of the stock and bond portions of the portfolio.\n",
    "\n",
    "2. Use the `savings_data` list to create a Pandas DataFrame named `savings_df`, and then display this DataFrame. The function to create the DataFrame should take the following three parameters:\n",
    "\n",
    "    - `savings_data`: Use the list that you just created.\n",
    "\n",
    "    - `columns`: Set this parameter equal to a Python list with a single value called `amount`.\n",
    "\n",
    "    - `index`: Set this parameter equal to a Python list with the values of `crypto` and `stock/bond`.\n",
    "\n",
    "3. Use the `savings_df` DataFrame to plot a pie chart that visualizes the composition of the member’s portfolio. The y-axis of the pie chart uses `amount`. Be sure to add a title.\n",
    "\n",
    "4. Using Python, determine if the current portfolio has enough to create an emergency fund as part of the member’s financial plan. Ideally, an emergency fund should equal to three times the member’s monthly income. To do this, implement the following steps:\n",
    "\n",
    "    1. Create a variable named `emergency_fund_value`, and set it equal to three times the value of the member’s `monthly_income` of $12000. (You set this earlier in Part 1).\n",
    "\n",
    "    2. Create a series of three if statements to determine if the member’s total portfolio is large enough to fund the emergency portfolio:\n",
    "\n",
    "        1. If the total portfolio value is greater than the emergency fund value, display a message congratulating the member for having enough money in this fund.\n",
    "\n",
    "        2. Else if the total portfolio value is equal to the emergency fund value, display a message congratulating the member on reaching this important financial goal.\n",
    "\n",
    "        3. Else the total portfolio is less than the emergency fund value, so display a message showing how many dollars away the member is from reaching the goal. (Subtract the total portfolio value from the emergency fund value.)\n"
   ]
  },
  {
   "cell_type": "markdown",
   "metadata": {},
   "source": [
    "#### Step 1: Create a Python list named `savings_data` that has two elements. The first element contains the total value of the cryptocurrency wallet. The second element contains the total value of the stock and bond portions of the portfolio."
   ]
  },
  {
   "cell_type": "code",
   "execution_count": 32,
   "metadata": {},
   "outputs": [
    {
     "data": {
      "text/plain": [
       "[42195.0, 63640.100000000006]"
      ]
     },
     "execution_count": 32,
     "metadata": {},
     "output_type": "execute_result"
    }
   ],
   "source": [
    "# Consolidate financial assets data into a Python list\n",
    "savings_data = [total_crypto_wallet, total_stocks_bonds]\n",
    "# Review the Python list savings_data\n",
    "savings_data"
   ]
  },
  {
   "cell_type": "markdown",
   "metadata": {},
   "source": [
    "#### Step 2: Use the `savings_data` list to create a Pandas DataFrame named `savings_df`, and then display this DataFrame. The function to create the DataFrame should take the following three parameters:\n",
    "\n",
    "- `savings_data`: Use the list that you just created.\n",
    "\n",
    "- `columns`: Set this parameter equal to a Python list with a single value called `amount`.\n",
    "\n",
    "- `index`: Set this parameter equal to a Python list with the values of `crypto` and `stock/bond`.\n"
   ]
  },
  {
   "cell_type": "code",
   "execution_count": 33,
   "metadata": {},
   "outputs": [
    {
     "data": {
      "text/html": [
       "<div>\n",
       "<style scoped>\n",
       "    .dataframe tbody tr th:only-of-type {\n",
       "        vertical-align: middle;\n",
       "    }\n",
       "\n",
       "    .dataframe tbody tr th {\n",
       "        vertical-align: top;\n",
       "    }\n",
       "\n",
       "    .dataframe thead th {\n",
       "        text-align: right;\n",
       "    }\n",
       "</style>\n",
       "<table border=\"1\" class=\"dataframe\">\n",
       "  <thead>\n",
       "    <tr style=\"text-align: right;\">\n",
       "      <th></th>\n",
       "      <th>amount</th>\n",
       "    </tr>\n",
       "  </thead>\n",
       "  <tbody>\n",
       "    <tr>\n",
       "      <th>crypto</th>\n",
       "      <td>42195.0</td>\n",
       "    </tr>\n",
       "    <tr>\n",
       "      <th>stock/bond</th>\n",
       "      <td>63640.1</td>\n",
       "    </tr>\n",
       "  </tbody>\n",
       "</table>\n",
       "</div>"
      ],
      "text/plain": [
       "             amount\n",
       "crypto      42195.0\n",
       "stock/bond  63640.1"
      ]
     },
     "metadata": {},
     "output_type": "display_data"
    }
   ],
   "source": [
    "# Create a Pandas DataFrame called savings_df \n",
    "savings_df = pd.DataFrame(savings_data, columns=['amount'], index=['crypto', 'stock/bond'])\n",
    "\n",
    "\n",
    "# Display the savings_df DataFrame\n",
    "display(savings_df)\n"
   ]
  },
  {
   "cell_type": "markdown",
   "metadata": {},
   "source": [
    "#### Step 3: Use the `savings_df` DataFrame to plot a pie chart that visualizes the composition of the member’s portfolio. The y-axis of the pie chart uses `amount`. Be sure to add a title."
   ]
  },
  {
   "cell_type": "code",
   "execution_count": 34,
   "metadata": {},
   "outputs": [
    {
     "data": {
      "text/plain": [
       "<AxesSubplot:ylabel='amount'>"
      ]
     },
     "execution_count": 34,
     "metadata": {},
     "output_type": "execute_result"
    },
    {
     "data": {
      "image/png": "[encoded data removed]",
      "text/plain": [
       "<Figure size 640x480 with 1 Axes>"
      ]
     },
     "metadata": {},
     "output_type": "display_data"
    }
   ],
   "source": [
    "# Plot the total value of the member's portfolio (crypto and stock/bond) in a pie chart\n",
    "savings_df.plot.pie(y=\"amount\")\n"
   ]
  },
  {
   "cell_type": "markdown",
   "metadata": {},
   "source": [
    "#### Step 4: Using Python, determine if the current portfolio has enough to create an emergency fund as part of the member’s financial plan. Ideally, an emergency fund should equal to three times the member’s monthly income. To do this, implement the following steps:\n",
    "\n",
    "Step 1. Create a variable named `emergency_fund_value`, and set it equal to three times the value of the member’s `monthly_income` of 12000. (You set this earlier in Part 1).\n",
    "\n",
    "Step 2. Create a series of three if statements to determine if the member’s total portfolio is large enough to fund the emergency portfolio:\n",
    "\n",
    "* If the total portfolio value is greater than the emergency fund value, display a message congratulating the member for having enough money in this fund.\n",
    "\n",
    "* Else if the total portfolio value is equal to the emergency fund value, display a message congratulating the member on reaching this important financial goal.\n",
    "\n",
    "* Else the total portfolio is less than the emergency fund value, so display a message showing how many dollars away the member is from reaching the goal. (Subtract the total portfolio value from the emergency fund value.)\n"
   ]
  },
  {
   "cell_type": "markdown",
   "metadata": {},
   "source": [
    "##### Step 4-1: Create a variable named `emergency_fund_value`, and set it equal to three times the value of the member’s `monthly_income` of 12000. (You set this earlier in Part 1)."
   ]
  },
  {
   "cell_type": "code",
   "execution_count": 35,
   "metadata": {},
   "outputs": [
    {
     "data": {
      "text/plain": [
       "36000"
      ]
     },
     "execution_count": 35,
     "metadata": {},
     "output_type": "execute_result"
    }
   ],
   "source": [
    "# Create a variable named emergency_fund_value\n",
    "emergency_fund_value = 3 * monthly_income\n",
    "emergency_fund_value"
   ]
  },
  {
   "cell_type": "markdown",
   "metadata": {},
   "source": [
    "##### Step 4-2: Create a series of three if statements to determine if the member’s total portfolio is large enough to fund the emergency portfolio:\n",
    "\n",
    "* If the total portfolio value is greater than the emergency fund value, display a message congratulating the member for having enough money in this fund.\n",
    "\n",
    "* Else if the total portfolio value is equal to the emergency fund value, display a message congratulating the member on reaching this important financial goal.\n",
    "\n",
    "* Else the total portfolio is less than the emergency fund value, so display a message showing how many dollars away the member is from reaching the goal. (Subtract the total portfolio value from the emergency fund value.)"
   ]
  },
  {
   "cell_type": "code",
   "execution_count": 66,
   "metadata": {},
   "outputs": [
    {
     "name": "stdout",
     "output_type": "stream",
     "text": [
      "you need more savings, you are [-69835.1] away form your goal\n"
     ]
    }
   ],
   "source": [
    "# Evaluate the possibility of creating an emergency fund with 3 conditions:\n",
    "if emergency_fund_value > total_portfolio:\n",
    "    print(\"Congratdulation, your portfolio value is enough to cover your emergency need\")\n",
    "elif (emergency_fund_value == total_portfolio):\n",
    "    print(\"Congratdulation, you are reaching your goal to have enaough savings for emergency needs\")\n",
    "else:\n",
    "    print(\"you need more savings, you are\", [emergency_fund_value - total_portfolio], \"away form your goal\")\n",
    "        \n",
    "    \n"
   ]
  },
  {
   "cell_type": "markdown",
   "metadata": {},
   "source": [
    "## Part 2: Create a Financial Planner for Retirement"
   ]
  },
  {
   "cell_type": "markdown",
   "metadata": {},
   "source": [
    "### Create the Monte Carlo Simulation\n",
    "\n",
    "In this section, you’ll use the MCForecastTools library to create a Monte Carlo simulation for the member’s savings portfolio. To do this, complete the following steps:\n",
    "\n",
    "1. Make an API call via the Alpaca SDK to get 3 years of historical closing prices for a traditional 60/40 portfolio split: 60% stocks (SPY) and 40% bonds (AGG).\n",
    "\n",
    "2. Run a Monte Carlo simulation of 500 samples and 30 years for the 60/40 portfolio, and then plot the results.The following image shows the overlay line plot resulting from a simulation with these characteristics. However, because a random number generator is used to run each live Monte Carlo simulation, your image will differ slightly from this exact image:\n",
    "\n",
    "![A screenshot depicts the resulting plot.](Images/5-4-monte-carlo-line-plot.png)\n",
    "\n",
    "3. Plot the probability distribution of the Monte Carlo simulation. Plot the probability distribution of the Monte Carlo simulation. The following image shows the histogram plot resulting from a simulation with these characteristics. However, because a random number generator is used to run each live Monte Carlo simulation, your image will differ slightly from this exact image:\n",
    "\n",
    "![A screenshot depicts the histogram plot.](Images/5-4-monte-carlo-histogram.png)\n",
    "\n",
    "4. Generate the summary statistics for the Monte Carlo simulation.\n",
    "\n"
   ]
  },
  {
   "cell_type": "markdown",
   "metadata": {},
   "source": [
    "#### Step 1: Make an API call via the Alpaca SDK to get 3 years of historical closing prices for a traditional 60/40 portfolio split: 60% stocks (SPY) and 40% bonds (AGG)."
   ]
  },
  {
   "cell_type": "code",
   "execution_count": 38,
   "metadata": {},
   "outputs": [],
   "source": [
    "# Set start and end dates of 3 years back from your current date\n",
    "# Alternatively, you can use an end date of 2020-08-07 and work 3 years back from that date \n",
    "start_date =  pd.Timestamp(\"2020-03-21\", tz=\"America/New_York\").isoformat()\n",
    "end_date =  pd.Timestamp(\"2023-03-21\", tz=\"America/New_York\").isoformat()"
   ]
  },
  {
   "cell_type": "code",
   "execution_count": 41,
   "metadata": {},
   "outputs": [
    {
     "data": {
      "text/html": [
       "<div>\n",
       "<style scoped>\n",
       "    .dataframe tbody tr th:only-of-type {\n",
       "        vertical-align: middle;\n",
       "    }\n",
       "\n",
       "    .dataframe tbody tr th {\n",
       "        vertical-align: top;\n",
       "    }\n",
       "\n",
       "    .dataframe thead tr th {\n",
       "        text-align: left;\n",
       "    }\n",
       "\n",
       "    .dataframe thead tr:last-of-type th {\n",
       "        text-align: right;\n",
       "    }\n",
       "</style>\n",
       "<table border=\"1\" class=\"dataframe\">\n",
       "  <thead>\n",
       "    <tr>\n",
       "      <th></th>\n",
       "      <th colspan=\"7\" halign=\"left\">SPY</th>\n",
       "      <th colspan=\"7\" halign=\"left\">AGG</th>\n",
       "    </tr>\n",
       "    <tr>\n",
       "      <th></th>\n",
       "      <th>open</th>\n",
       "      <th>high</th>\n",
       "      <th>low</th>\n",
       "      <th>close</th>\n",
       "      <th>volume</th>\n",
       "      <th>trade_count</th>\n",
       "      <th>vwap</th>\n",
       "      <th>open</th>\n",
       "      <th>high</th>\n",
       "      <th>low</th>\n",
       "      <th>close</th>\n",
       "      <th>volume</th>\n",
       "      <th>trade_count</th>\n",
       "      <th>vwap</th>\n",
       "    </tr>\n",
       "    <tr>\n",
       "      <th>timestamp</th>\n",
       "      <th></th>\n",
       "      <th></th>\n",
       "      <th></th>\n",
       "      <th></th>\n",
       "      <th></th>\n",
       "      <th></th>\n",
       "      <th></th>\n",
       "      <th></th>\n",
       "      <th></th>\n",
       "      <th></th>\n",
       "      <th></th>\n",
       "      <th></th>\n",
       "      <th></th>\n",
       "      <th></th>\n",
       "    </tr>\n",
       "  </thead>\n",
       "  <tbody>\n",
       "    <tr>\n",
       "      <th>2023-03-15 04:00:00+00:00</th>\n",
       "      <td>385.89</td>\n",
       "      <td>389.49</td>\n",
       "      <td>383.71</td>\n",
       "      <td>389.28</td>\n",
       "      <td>173294525</td>\n",
       "      <td>1334847</td>\n",
       "      <td>387.162754</td>\n",
       "      <td>99.43</td>\n",
       "      <td>99.70</td>\n",
       "      <td>98.810</td>\n",
       "      <td>99.27</td>\n",
       "      <td>11133655</td>\n",
       "      <td>46473</td>\n",
       "      <td>99.317925</td>\n",
       "    </tr>\n",
       "    <tr>\n",
       "      <th>2023-03-16 04:00:00+00:00</th>\n",
       "      <td>386.82</td>\n",
       "      <td>396.47</td>\n",
       "      <td>386.29</td>\n",
       "      <td>396.11</td>\n",
       "      <td>143753940</td>\n",
       "      <td>999801</td>\n",
       "      <td>392.990202</td>\n",
       "      <td>99.53</td>\n",
       "      <td>99.72</td>\n",
       "      <td>98.675</td>\n",
       "      <td>98.88</td>\n",
       "      <td>15219710</td>\n",
       "      <td>58898</td>\n",
       "      <td>99.040846</td>\n",
       "    </tr>\n",
       "    <tr>\n",
       "      <th>2023-03-17 04:00:00+00:00</th>\n",
       "      <td>393.22</td>\n",
       "      <td>394.40</td>\n",
       "      <td>388.55</td>\n",
       "      <td>389.99</td>\n",
       "      <td>139808159</td>\n",
       "      <td>917926</td>\n",
       "      <td>391.225951</td>\n",
       "      <td>99.29</td>\n",
       "      <td>99.80</td>\n",
       "      <td>99.210</td>\n",
       "      <td>99.50</td>\n",
       "      <td>8265656</td>\n",
       "      <td>38984</td>\n",
       "      <td>99.594705</td>\n",
       "    </tr>\n",
       "    <tr>\n",
       "      <th>2023-03-20 04:00:00+00:00</th>\n",
       "      <td>390.80</td>\n",
       "      <td>394.17</td>\n",
       "      <td>390.07</td>\n",
       "      <td>393.74</td>\n",
       "      <td>93055883</td>\n",
       "      <td>725426</td>\n",
       "      <td>392.355333</td>\n",
       "      <td>99.73</td>\n",
       "      <td>99.73</td>\n",
       "      <td>99.015</td>\n",
       "      <td>99.10</td>\n",
       "      <td>6346444</td>\n",
       "      <td>27948</td>\n",
       "      <td>99.214330</td>\n",
       "    </tr>\n",
       "    <tr>\n",
       "      <th>2023-03-21 04:00:00+00:00</th>\n",
       "      <td>397.24</td>\n",
       "      <td>399.41</td>\n",
       "      <td>395.58</td>\n",
       "      <td>398.91</td>\n",
       "      <td>89391720</td>\n",
       "      <td>612721</td>\n",
       "      <td>397.090090</td>\n",
       "      <td>98.85</td>\n",
       "      <td>99.03</td>\n",
       "      <td>98.700</td>\n",
       "      <td>98.80</td>\n",
       "      <td>5266122</td>\n",
       "      <td>24206</td>\n",
       "      <td>98.828501</td>\n",
       "    </tr>\n",
       "  </tbody>\n",
       "</table>\n",
       "</div>"
      ],
      "text/plain": [
       "                              SPY                                     \\\n",
       "                             open    high     low   close     volume   \n",
       "timestamp                                                              \n",
       "2023-03-15 04:00:00+00:00  385.89  389.49  383.71  389.28  173294525   \n",
       "2023-03-16 04:00:00+00:00  386.82  396.47  386.29  396.11  143753940   \n",
       "2023-03-17 04:00:00+00:00  393.22  394.40  388.55  389.99  139808159   \n",
       "2023-03-20 04:00:00+00:00  390.80  394.17  390.07  393.74   93055883   \n",
       "2023-03-21 04:00:00+00:00  397.24  399.41  395.58  398.91   89391720   \n",
       "\n",
       "                                                     AGG                 \\\n",
       "                          trade_count        vwap   open   high     low   \n",
       "timestamp                                                                 \n",
       "2023-03-15 04:00:00+00:00     1334847  387.162754  99.43  99.70  98.810   \n",
       "2023-03-16 04:00:00+00:00      999801  392.990202  99.53  99.72  98.675   \n",
       "2023-03-17 04:00:00+00:00      917926  391.225951  99.29  99.80  99.210   \n",
       "2023-03-20 04:00:00+00:00      725426  392.355333  99.73  99.73  99.015   \n",
       "2023-03-21 04:00:00+00:00      612721  397.090090  98.85  99.03  98.700   \n",
       "\n",
       "                                                                   \n",
       "                           close    volume trade_count       vwap  \n",
       "timestamp                                                          \n",
       "2023-03-15 04:00:00+00:00  99.27  11133655       46473  99.317925  \n",
       "2023-03-16 04:00:00+00:00  98.88  15219710       58898  99.040846  \n",
       "2023-03-17 04:00:00+00:00  99.50   8265656       38984  99.594705  \n",
       "2023-03-20 04:00:00+00:00  99.10   6346444       27948  99.214330  \n",
       "2023-03-21 04:00:00+00:00  98.80   5266122       24206  98.828501  "
      ]
     },
     "execution_count": 41,
     "metadata": {},
     "output_type": "execute_result"
    }
   ],
   "source": [
    "# Use the Alpaca get_bars function to make the API call to get the 3 years worth of pricing data\n",
    "# The tickers and timeframe parameters should have been set in Part 1 of this activity \n",
    "# The start and end dates should be updated with the information set above\n",
    "# Remember to add the df property to the end of the call so the response is returned as a DataFrame\n",
    "portfolio_close_df = alpaca.get_bars(tickers, timeframe, start = start_date, end = end_date).df\n",
    "portfolio_close_df\n",
    "\n",
    "# Reorganize the DataFrame\n",
    "SPY = portfolio_close_df[portfolio_close_df['symbol']=='SPY'].drop('symbol', axis=1)\n",
    "AGG = portfolio_close_df[portfolio_close_df['symbol']=='AGG'].drop('symbol', axis=1)\n",
    "\n",
    "# Concatenate the ticker DataFrames\n",
    "portfolio_close_df = pd.concat([SPY, AGG], axis=1, keys=[\"SPY\", \"AGG\"])\n",
    "\n",
    "# Display both the first and last five rows of the DataFrame\n",
    "portfolio_close_df.head()\n",
    "portfolio_close_df.tail()\n"
   ]
  },
  {
   "cell_type": "markdown",
   "metadata": {},
   "source": [
    "#### Step 2: Run a Monte Carlo simulation of 500 samples and 30 years for the 60/40 portfolio, and then plot the results."
   ]
  },
  {
   "cell_type": "code",
   "execution_count": 50,
   "metadata": {},
   "outputs": [
    {
     "data": {
      "text/html": [
       "<div>\n",
       "<style scoped>\n",
       "    .dataframe tbody tr th:only-of-type {\n",
       "        vertical-align: middle;\n",
       "    }\n",
       "\n",
       "    .dataframe tbody tr th {\n",
       "        vertical-align: top;\n",
       "    }\n",
       "\n",
       "    .dataframe thead tr th {\n",
       "        text-align: left;\n",
       "    }\n",
       "\n",
       "    .dataframe thead tr:last-of-type th {\n",
       "        text-align: right;\n",
       "    }\n",
       "</style>\n",
       "<table border=\"1\" class=\"dataframe\">\n",
       "  <thead>\n",
       "    <tr>\n",
       "      <th></th>\n",
       "      <th colspan=\"8\" halign=\"left\">SPY</th>\n",
       "      <th colspan=\"8\" halign=\"left\">AGG</th>\n",
       "    </tr>\n",
       "    <tr>\n",
       "      <th></th>\n",
       "      <th>open</th>\n",
       "      <th>high</th>\n",
       "      <th>low</th>\n",
       "      <th>close</th>\n",
       "      <th>volume</th>\n",
       "      <th>trade_count</th>\n",
       "      <th>vwap</th>\n",
       "      <th>daily_return</th>\n",
       "      <th>open</th>\n",
       "      <th>high</th>\n",
       "      <th>low</th>\n",
       "      <th>close</th>\n",
       "      <th>volume</th>\n",
       "      <th>trade_count</th>\n",
       "      <th>vwap</th>\n",
       "      <th>daily_return</th>\n",
       "    </tr>\n",
       "    <tr>\n",
       "      <th>timestamp</th>\n",
       "      <th></th>\n",
       "      <th></th>\n",
       "      <th></th>\n",
       "      <th></th>\n",
       "      <th></th>\n",
       "      <th></th>\n",
       "      <th></th>\n",
       "      <th></th>\n",
       "      <th></th>\n",
       "      <th></th>\n",
       "      <th></th>\n",
       "      <th></th>\n",
       "      <th></th>\n",
       "      <th></th>\n",
       "      <th></th>\n",
       "      <th></th>\n",
       "    </tr>\n",
       "  </thead>\n",
       "  <tbody>\n",
       "    <tr>\n",
       "      <th>2020-03-23 04:00:00+00:00</th>\n",
       "      <td>228.19</td>\n",
       "      <td>229.6833</td>\n",
       "      <td>218.26</td>\n",
       "      <td>222.68</td>\n",
       "      <td>326162824</td>\n",
       "      <td>2848120</td>\n",
       "      <td>224.675822</td>\n",
       "      <td>NaN</td>\n",
       "      <td>109.90</td>\n",
       "      <td>112.94</td>\n",
       "      <td>109.0000</td>\n",
       "      <td>112.64</td>\n",
       "      <td>12572180</td>\n",
       "      <td>49893</td>\n",
       "      <td>112.198002</td>\n",
       "      <td>NaN</td>\n",
       "    </tr>\n",
       "    <tr>\n",
       "      <th>2020-03-24 04:00:00+00:00</th>\n",
       "      <td>234.42</td>\n",
       "      <td>244.1000</td>\n",
       "      <td>233.80</td>\n",
       "      <td>242.00</td>\n",
       "      <td>236042267</td>\n",
       "      <td>1625796</td>\n",
       "      <td>237.746063</td>\n",
       "      <td>0.086761</td>\n",
       "      <td>111.52</td>\n",
       "      <td>113.57</td>\n",
       "      <td>111.0754</td>\n",
       "      <td>113.57</td>\n",
       "      <td>10253621</td>\n",
       "      <td>53393</td>\n",
       "      <td>112.992508</td>\n",
       "      <td>0.008256</td>\n",
       "    </tr>\n",
       "    <tr>\n",
       "      <th>2020-03-25 04:00:00+00:00</th>\n",
       "      <td>244.86</td>\n",
       "      <td>256.3500</td>\n",
       "      <td>239.75</td>\n",
       "      <td>246.79</td>\n",
       "      <td>299488281</td>\n",
       "      <td>2166621</td>\n",
       "      <td>247.927974</td>\n",
       "      <td>0.019793</td>\n",
       "      <td>114.00</td>\n",
       "      <td>114.75</td>\n",
       "      <td>113.7000</td>\n",
       "      <td>114.73</td>\n",
       "      <td>10999713</td>\n",
       "      <td>56159</td>\n",
       "      <td>114.344839</td>\n",
       "      <td>0.010214</td>\n",
       "    </tr>\n",
       "    <tr>\n",
       "      <th>2020-03-26 04:00:00+00:00</th>\n",
       "      <td>249.52</td>\n",
       "      <td>262.8000</td>\n",
       "      <td>249.05</td>\n",
       "      <td>260.93</td>\n",
       "      <td>257648210</td>\n",
       "      <td>1886242</td>\n",
       "      <td>255.772313</td>\n",
       "      <td>0.057296</td>\n",
       "      <td>114.20</td>\n",
       "      <td>115.39</td>\n",
       "      <td>114.2000</td>\n",
       "      <td>115.08</td>\n",
       "      <td>16611377</td>\n",
       "      <td>71731</td>\n",
       "      <td>114.896626</td>\n",
       "      <td>0.003051</td>\n",
       "    </tr>\n",
       "    <tr>\n",
       "      <th>2020-03-27 04:00:00+00:00</th>\n",
       "      <td>253.27</td>\n",
       "      <td>260.8100</td>\n",
       "      <td>251.05</td>\n",
       "      <td>254.00</td>\n",
       "      <td>224421276</td>\n",
       "      <td>1672720</td>\n",
       "      <td>255.364836</td>\n",
       "      <td>-0.026559</td>\n",
       "      <td>114.78</td>\n",
       "      <td>115.58</td>\n",
       "      <td>114.5300</td>\n",
       "      <td>115.58</td>\n",
       "      <td>10841700</td>\n",
       "      <td>38025</td>\n",
       "      <td>115.289309</td>\n",
       "      <td>0.004345</td>\n",
       "    </tr>\n",
       "  </tbody>\n",
       "</table>\n",
       "</div>"
      ],
      "text/plain": [
       "                              SPY                                       \\\n",
       "                             open      high     low   close     volume   \n",
       "timestamp                                                                \n",
       "2020-03-23 04:00:00+00:00  228.19  229.6833  218.26  222.68  326162824   \n",
       "2020-03-24 04:00:00+00:00  234.42  244.1000  233.80  242.00  236042267   \n",
       "2020-03-25 04:00:00+00:00  244.86  256.3500  239.75  246.79  299488281   \n",
       "2020-03-26 04:00:00+00:00  249.52  262.8000  249.05  260.93  257648210   \n",
       "2020-03-27 04:00:00+00:00  253.27  260.8100  251.05  254.00  224421276   \n",
       "\n",
       "                                                                   AGG  \\\n",
       "                          trade_count        vwap daily_return    open   \n",
       "timestamp                                                                \n",
       "2020-03-23 04:00:00+00:00     2848120  224.675822          NaN  109.90   \n",
       "2020-03-24 04:00:00+00:00     1625796  237.746063     0.086761  111.52   \n",
       "2020-03-25 04:00:00+00:00     2166621  247.927974     0.019793  114.00   \n",
       "2020-03-26 04:00:00+00:00     1886242  255.772313     0.057296  114.20   \n",
       "2020-03-27 04:00:00+00:00     1672720  255.364836    -0.026559  114.78   \n",
       "\n",
       "                                                                           \\\n",
       "                             high       low   close    volume trade_count   \n",
       "timestamp                                                                   \n",
       "2020-03-23 04:00:00+00:00  112.94  109.0000  112.64  12572180       49893   \n",
       "2020-03-24 04:00:00+00:00  113.57  111.0754  113.57  10253621       53393   \n",
       "2020-03-25 04:00:00+00:00  114.75  113.7000  114.73  10999713       56159   \n",
       "2020-03-26 04:00:00+00:00  115.39  114.2000  115.08  16611377       71731   \n",
       "2020-03-27 04:00:00+00:00  115.58  114.5300  115.58  10841700       38025   \n",
       "\n",
       "                                                    \n",
       "                                 vwap daily_return  \n",
       "timestamp                                           \n",
       "2020-03-23 04:00:00+00:00  112.198002          NaN  \n",
       "2020-03-24 04:00:00+00:00  112.992508     0.008256  \n",
       "2020-03-25 04:00:00+00:00  114.344839     0.010214  \n",
       "2020-03-26 04:00:00+00:00  114.896626     0.003051  \n",
       "2020-03-27 04:00:00+00:00  115.289309     0.004345  "
      ]
     },
     "execution_count": 50,
     "metadata": {},
     "output_type": "execute_result"
    }
   ],
   "source": [
    "# Configure the Monte Carlo simulation to forecast 30 years cumulative returns\n",
    "# The weights should be split 40% to AGG and 60% to SPY.\n",
    "# Run 500 samples.\n",
    "from MCForecastTools import MCSimulation\n",
    "MC_thirtyyear = MCSimulation(\n",
    "    portfolio_data = portfolio_close_df,\n",
    "    weights = [.60,.40],\n",
    "    num_simulation = 500,\n",
    "    num_trading_days = 252*30\n",
    ")\n",
    "\n",
    "# Review the simulation input data\n",
    "MC_thirtyyear.portfolio_data.head()\n"
   ]
  },
  {
   "cell_type": "code",
   "execution_count": 42,
   "metadata": {},
   "outputs": [
    {
     "name": "stdout",
     "output_type": "stream",
     "text": [
      "Running Monte Carlo simulation number 0.\n",
      "Running Monte Carlo simulation number 10.\n",
      "Running Monte Carlo simulation number 20.\n",
      "Running Monte Carlo simulation number 30.\n",
      "Running Monte Carlo simulation number 40.\n",
      "Running Monte Carlo simulation number 50.\n",
      "Running Monte Carlo simulation number 60.\n",
      "Running Monte Carlo simulation number 70.\n",
      "Running Monte Carlo simulation number 80.\n",
      "Running Monte Carlo simulation number 90.\n",
      "Running Monte Carlo simulation number 100.\n"
     ]
    },
    {
     "name": "stderr",
     "output_type": "stream",
     "text": [
      "C:\\Users\\Afsaneh\\challenge5\\Starter_Code\\MCForecastTools.py:117: PerformanceWarning: DataFrame is highly fragmented.  This is usually the result of calling `frame.insert` many times, which has poor performance.  Consider joining all columns at once using pd.concat(axis=1) instead.  To get a de-fragmented frame, use `newframe = frame.copy()`\n",
      "  portfolio_cumulative_returns[n] = (1 + sim_df.fillna(0)).cumprod()\n"
     ]
    },
    {
     "name": "stdout",
     "output_type": "stream",
     "text": [
      "Running Monte Carlo simulation number 110.\n",
      "Running Monte Carlo simulation number 120.\n",
      "Running Monte Carlo simulation number 130.\n",
      "Running Monte Carlo simulation number 140.\n",
      "Running Monte Carlo simulation number 150.\n",
      "Running Monte Carlo simulation number 160.\n",
      "Running Monte Carlo simulation number 170.\n",
      "Running Monte Carlo simulation number 180.\n",
      "Running Monte Carlo simulation number 190.\n",
      "Running Monte Carlo simulation number 200.\n",
      "Running Monte Carlo simulation number 210.\n",
      "Running Monte Carlo simulation number 220.\n",
      "Running Monte Carlo simulation number 230.\n",
      "Running Monte Carlo simulation number 240.\n",
      "Running Monte Carlo simulation number 250.\n",
      "Running Monte Carlo simulation number 260.\n",
      "Running Monte Carlo simulation number 270.\n",
      "Running Monte Carlo simulation number 280.\n",
      "Running Monte Carlo simulation number 290.\n",
      "Running Monte Carlo simulation number 300.\n",
      "Running Monte Carlo simulation number 310.\n",
      "Running Monte Carlo simulation number 320.\n",
      "Running Monte Carlo simulation number 330.\n",
      "Running Monte Carlo simulation number 340.\n",
      "Running Monte Carlo simulation number 350.\n",
      "Running Monte Carlo simulation number 360.\n",
      "Running Monte Carlo simulation number 370.\n",
      "Running Monte Carlo simulation number 380.\n",
      "Running Monte Carlo simulation number 390.\n",
      "Running Monte Carlo simulation number 400.\n",
      "Running Monte Carlo simulation number 410.\n",
      "Running Monte Carlo simulation number 420.\n",
      "Running Monte Carlo simulation number 430.\n",
      "Running Monte Carlo simulation number 440.\n",
      "Running Monte Carlo simulation number 450.\n",
      "Running Monte Carlo simulation number 460.\n",
      "Running Monte Carlo simulation number 470.\n",
      "Running Monte Carlo simulation number 480.\n",
      "Running Monte Carlo simulation number 490.\n"
     ]
    },
    {
     "data": {
      "text/html": [
       "<div>\n",
       "<style scoped>\n",
       "    .dataframe tbody tr th:only-of-type {\n",
       "        vertical-align: middle;\n",
       "    }\n",
       "\n",
       "    .dataframe tbody tr th {\n",
       "        vertical-align: top;\n",
       "    }\n",
       "\n",
       "    .dataframe thead th {\n",
       "        text-align: right;\n",
       "    }\n",
       "</style>\n",
       "<table border=\"1\" class=\"dataframe\">\n",
       "  <thead>\n",
       "    <tr style=\"text-align: right;\">\n",
       "      <th></th>\n",
       "      <th>0</th>\n",
       "      <th>1</th>\n",
       "      <th>2</th>\n",
       "      <th>3</th>\n",
       "      <th>4</th>\n",
       "      <th>5</th>\n",
       "      <th>6</th>\n",
       "      <th>7</th>\n",
       "      <th>8</th>\n",
       "      <th>9</th>\n",
       "      <th>...</th>\n",
       "      <th>490</th>\n",
       "      <th>491</th>\n",
       "      <th>492</th>\n",
       "      <th>493</th>\n",
       "      <th>494</th>\n",
       "      <th>495</th>\n",
       "      <th>496</th>\n",
       "      <th>497</th>\n",
       "      <th>498</th>\n",
       "      <th>499</th>\n",
       "    </tr>\n",
       "  </thead>\n",
       "  <tbody>\n",
       "    <tr>\n",
       "      <th>0</th>\n",
       "      <td>1.000000</td>\n",
       "      <td>1.000000</td>\n",
       "      <td>1.000000</td>\n",
       "      <td>1.000000</td>\n",
       "      <td>1.000000</td>\n",
       "      <td>1.000000</td>\n",
       "      <td>1.000000</td>\n",
       "      <td>1.000000</td>\n",
       "      <td>1.000000</td>\n",
       "      <td>1.000000</td>\n",
       "      <td>...</td>\n",
       "      <td>1.000000</td>\n",
       "      <td>1.000000</td>\n",
       "      <td>1.000000</td>\n",
       "      <td>1.000000</td>\n",
       "      <td>1.000000</td>\n",
       "      <td>1.000000</td>\n",
       "      <td>1.000000</td>\n",
       "      <td>1.000000</td>\n",
       "      <td>1.000000</td>\n",
       "      <td>1.000000</td>\n",
       "    </tr>\n",
       "    <tr>\n",
       "      <th>1</th>\n",
       "      <td>0.992963</td>\n",
       "      <td>0.979995</td>\n",
       "      <td>0.996200</td>\n",
       "      <td>1.004535</td>\n",
       "      <td>1.008890</td>\n",
       "      <td>0.999405</td>\n",
       "      <td>1.015130</td>\n",
       "      <td>1.002666</td>\n",
       "      <td>1.000256</td>\n",
       "      <td>0.992450</td>\n",
       "      <td>...</td>\n",
       "      <td>0.995444</td>\n",
       "      <td>0.991514</td>\n",
       "      <td>1.001529</td>\n",
       "      <td>1.000452</td>\n",
       "      <td>1.010906</td>\n",
       "      <td>0.998527</td>\n",
       "      <td>1.004270</td>\n",
       "      <td>0.998000</td>\n",
       "      <td>1.006834</td>\n",
       "      <td>0.994110</td>\n",
       "    </tr>\n",
       "    <tr>\n",
       "      <th>2</th>\n",
       "      <td>0.989796</td>\n",
       "      <td>0.959331</td>\n",
       "      <td>1.000611</td>\n",
       "      <td>1.009092</td>\n",
       "      <td>1.007801</td>\n",
       "      <td>0.993647</td>\n",
       "      <td>1.019678</td>\n",
       "      <td>1.010676</td>\n",
       "      <td>0.998611</td>\n",
       "      <td>0.990408</td>\n",
       "      <td>...</td>\n",
       "      <td>0.989304</td>\n",
       "      <td>0.988170</td>\n",
       "      <td>1.003247</td>\n",
       "      <td>1.000902</td>\n",
       "      <td>0.997523</td>\n",
       "      <td>1.001257</td>\n",
       "      <td>0.985158</td>\n",
       "      <td>1.011350</td>\n",
       "      <td>0.993455</td>\n",
       "      <td>1.000350</td>\n",
       "    </tr>\n",
       "    <tr>\n",
       "      <th>3</th>\n",
       "      <td>0.995629</td>\n",
       "      <td>0.947409</td>\n",
       "      <td>1.003240</td>\n",
       "      <td>1.009925</td>\n",
       "      <td>1.016953</td>\n",
       "      <td>0.986296</td>\n",
       "      <td>1.026580</td>\n",
       "      <td>1.008509</td>\n",
       "      <td>0.996771</td>\n",
       "      <td>0.986727</td>\n",
       "      <td>...</td>\n",
       "      <td>0.997570</td>\n",
       "      <td>0.989052</td>\n",
       "      <td>1.002643</td>\n",
       "      <td>1.006327</td>\n",
       "      <td>1.010611</td>\n",
       "      <td>1.004632</td>\n",
       "      <td>0.991107</td>\n",
       "      <td>1.005859</td>\n",
       "      <td>0.990093</td>\n",
       "      <td>0.988358</td>\n",
       "    </tr>\n",
       "    <tr>\n",
       "      <th>4</th>\n",
       "      <td>0.985494</td>\n",
       "      <td>0.949154</td>\n",
       "      <td>1.000527</td>\n",
       "      <td>1.021025</td>\n",
       "      <td>1.025855</td>\n",
       "      <td>0.983025</td>\n",
       "      <td>1.023059</td>\n",
       "      <td>1.008514</td>\n",
       "      <td>0.974756</td>\n",
       "      <td>0.993424</td>\n",
       "      <td>...</td>\n",
       "      <td>1.001193</td>\n",
       "      <td>0.988561</td>\n",
       "      <td>0.999268</td>\n",
       "      <td>1.002204</td>\n",
       "      <td>1.013199</td>\n",
       "      <td>1.002621</td>\n",
       "      <td>0.981804</td>\n",
       "      <td>1.005656</td>\n",
       "      <td>0.985847</td>\n",
       "      <td>0.985524</td>\n",
       "    </tr>\n",
       "    <tr>\n",
       "      <th>...</th>\n",
       "      <td>...</td>\n",
       "      <td>...</td>\n",
       "      <td>...</td>\n",
       "      <td>...</td>\n",
       "      <td>...</td>\n",
       "      <td>...</td>\n",
       "      <td>...</td>\n",
       "      <td>...</td>\n",
       "      <td>...</td>\n",
       "      <td>...</td>\n",
       "      <td>...</td>\n",
       "      <td>...</td>\n",
       "      <td>...</td>\n",
       "      <td>...</td>\n",
       "      <td>...</td>\n",
       "      <td>...</td>\n",
       "      <td>...</td>\n",
       "      <td>...</td>\n",
       "      <td>...</td>\n",
       "      <td>...</td>\n",
       "      <td>...</td>\n",
       "    </tr>\n",
       "    <tr>\n",
       "      <th>7556</th>\n",
       "      <td>12.265687</td>\n",
       "      <td>29.179783</td>\n",
       "      <td>13.750037</td>\n",
       "      <td>8.126826</td>\n",
       "      <td>38.460117</td>\n",
       "      <td>15.396792</td>\n",
       "      <td>31.407911</td>\n",
       "      <td>30.812524</td>\n",
       "      <td>16.396367</td>\n",
       "      <td>50.417874</td>\n",
       "      <td>...</td>\n",
       "      <td>29.220953</td>\n",
       "      <td>9.402451</td>\n",
       "      <td>25.357768</td>\n",
       "      <td>58.890897</td>\n",
       "      <td>13.741622</td>\n",
       "      <td>22.258284</td>\n",
       "      <td>22.723061</td>\n",
       "      <td>42.166775</td>\n",
       "      <td>13.447066</td>\n",
       "      <td>38.760787</td>\n",
       "    </tr>\n",
       "    <tr>\n",
       "      <th>7557</th>\n",
       "      <td>12.332065</td>\n",
       "      <td>28.964922</td>\n",
       "      <td>13.723886</td>\n",
       "      <td>8.223801</td>\n",
       "      <td>38.989019</td>\n",
       "      <td>15.414144</td>\n",
       "      <td>31.307639</td>\n",
       "      <td>30.610400</td>\n",
       "      <td>16.484646</td>\n",
       "      <td>50.576601</td>\n",
       "      <td>...</td>\n",
       "      <td>29.713269</td>\n",
       "      <td>9.521484</td>\n",
       "      <td>25.713536</td>\n",
       "      <td>58.848383</td>\n",
       "      <td>13.848695</td>\n",
       "      <td>22.176083</td>\n",
       "      <td>22.941338</td>\n",
       "      <td>42.490033</td>\n",
       "      <td>13.387250</td>\n",
       "      <td>39.128868</td>\n",
       "    </tr>\n",
       "    <tr>\n",
       "      <th>7558</th>\n",
       "      <td>12.172349</td>\n",
       "      <td>29.001261</td>\n",
       "      <td>13.608710</td>\n",
       "      <td>8.258500</td>\n",
       "      <td>38.852679</td>\n",
       "      <td>15.338456</td>\n",
       "      <td>31.320186</td>\n",
       "      <td>30.387002</td>\n",
       "      <td>16.731130</td>\n",
       "      <td>50.760967</td>\n",
       "      <td>...</td>\n",
       "      <td>29.933379</td>\n",
       "      <td>9.443187</td>\n",
       "      <td>25.499367</td>\n",
       "      <td>58.801114</td>\n",
       "      <td>13.684683</td>\n",
       "      <td>22.368096</td>\n",
       "      <td>22.843890</td>\n",
       "      <td>42.024512</td>\n",
       "      <td>13.320448</td>\n",
       "      <td>39.725209</td>\n",
       "    </tr>\n",
       "    <tr>\n",
       "      <th>7559</th>\n",
       "      <td>12.094166</td>\n",
       "      <td>28.498904</td>\n",
       "      <td>13.677447</td>\n",
       "      <td>8.270928</td>\n",
       "      <td>38.547309</td>\n",
       "      <td>15.333533</td>\n",
       "      <td>31.400291</td>\n",
       "      <td>30.335791</td>\n",
       "      <td>16.735666</td>\n",
       "      <td>51.084998</td>\n",
       "      <td>...</td>\n",
       "      <td>29.933849</td>\n",
       "      <td>9.422373</td>\n",
       "      <td>25.305692</td>\n",
       "      <td>58.200736</td>\n",
       "      <td>13.730111</td>\n",
       "      <td>22.563796</td>\n",
       "      <td>22.846938</td>\n",
       "      <td>42.031136</td>\n",
       "      <td>13.449872</td>\n",
       "      <td>39.387057</td>\n",
       "    </tr>\n",
       "    <tr>\n",
       "      <th>7560</th>\n",
       "      <td>11.912104</td>\n",
       "      <td>28.530788</td>\n",
       "      <td>13.704603</td>\n",
       "      <td>8.275552</td>\n",
       "      <td>39.146922</td>\n",
       "      <td>15.333789</td>\n",
       "      <td>31.582437</td>\n",
       "      <td>30.414952</td>\n",
       "      <td>16.638089</td>\n",
       "      <td>50.611497</td>\n",
       "      <td>...</td>\n",
       "      <td>30.018622</td>\n",
       "      <td>9.389553</td>\n",
       "      <td>25.631557</td>\n",
       "      <td>57.986321</td>\n",
       "      <td>13.566608</td>\n",
       "      <td>22.619864</td>\n",
       "      <td>22.594998</td>\n",
       "      <td>41.702363</td>\n",
       "      <td>13.543444</td>\n",
       "      <td>39.004893</td>\n",
       "    </tr>\n",
       "  </tbody>\n",
       "</table>\n",
       "<p>7561 rows × 500 columns</p>\n",
       "</div>"
      ],
      "text/plain": [
       "            0          1          2         3          4          5    \\\n",
       "0      1.000000   1.000000   1.000000  1.000000   1.000000   1.000000   \n",
       "1      0.992963   0.979995   0.996200  1.004535   1.008890   0.999405   \n",
       "2      0.989796   0.959331   1.000611  1.009092   1.007801   0.993647   \n",
       "3      0.995629   0.947409   1.003240  1.009925   1.016953   0.986296   \n",
       "4      0.985494   0.949154   1.000527  1.021025   1.025855   0.983025   \n",
       "...         ...        ...        ...       ...        ...        ...   \n",
       "7556  12.265687  29.179783  13.750037  8.126826  38.460117  15.396792   \n",
       "7557  12.332065  28.964922  13.723886  8.223801  38.989019  15.414144   \n",
       "7558  12.172349  29.001261  13.608710  8.258500  38.852679  15.338456   \n",
       "7559  12.094166  28.498904  13.677447  8.270928  38.547309  15.333533   \n",
       "7560  11.912104  28.530788  13.704603  8.275552  39.146922  15.333789   \n",
       "\n",
       "            6          7          8          9    ...        490       491  \\\n",
       "0      1.000000   1.000000   1.000000   1.000000  ...   1.000000  1.000000   \n",
       "1      1.015130   1.002666   1.000256   0.992450  ...   0.995444  0.991514   \n",
       "2      1.019678   1.010676   0.998611   0.990408  ...   0.989304  0.988170   \n",
       "3      1.026580   1.008509   0.996771   0.986727  ...   0.997570  0.989052   \n",
       "4      1.023059   1.008514   0.974756   0.993424  ...   1.001193  0.988561   \n",
       "...         ...        ...        ...        ...  ...        ...       ...   \n",
       "7556  31.407911  30.812524  16.396367  50.417874  ...  29.220953  9.402451   \n",
       "7557  31.307639  30.610400  16.484646  50.576601  ...  29.713269  9.521484   \n",
       "7558  31.320186  30.387002  16.731130  50.760967  ...  29.933379  9.443187   \n",
       "7559  31.400291  30.335791  16.735666  51.084998  ...  29.933849  9.422373   \n",
       "7560  31.582437  30.414952  16.638089  50.611497  ...  30.018622  9.389553   \n",
       "\n",
       "            492        493        494        495        496        497  \\\n",
       "0      1.000000   1.000000   1.000000   1.000000   1.000000   1.000000   \n",
       "1      1.001529   1.000452   1.010906   0.998527   1.004270   0.998000   \n",
       "2      1.003247   1.000902   0.997523   1.001257   0.985158   1.011350   \n",
       "3      1.002643   1.006327   1.010611   1.004632   0.991107   1.005859   \n",
       "4      0.999268   1.002204   1.013199   1.002621   0.981804   1.005656   \n",
       "...         ...        ...        ...        ...        ...        ...   \n",
       "7556  25.357768  58.890897  13.741622  22.258284  22.723061  42.166775   \n",
       "7557  25.713536  58.848383  13.848695  22.176083  22.941338  42.490033   \n",
       "7558  25.499367  58.801114  13.684683  22.368096  22.843890  42.024512   \n",
       "7559  25.305692  58.200736  13.730111  22.563796  22.846938  42.031136   \n",
       "7560  25.631557  57.986321  13.566608  22.619864  22.594998  41.702363   \n",
       "\n",
       "            498        499  \n",
       "0      1.000000   1.000000  \n",
       "1      1.006834   0.994110  \n",
       "2      0.993455   1.000350  \n",
       "3      0.990093   0.988358  \n",
       "4      0.985847   0.985524  \n",
       "...         ...        ...  \n",
       "7556  13.447066  38.760787  \n",
       "7557  13.387250  39.128868  \n",
       "7558  13.320448  39.725209  \n",
       "7559  13.449872  39.387057  \n",
       "7560  13.543444  39.004893  \n",
       "\n",
       "[7561 rows x 500 columns]"
      ]
     },
     "execution_count": 42,
     "metadata": {},
     "output_type": "execute_result"
    }
   ],
   "source": [
    "# Run the Monte Carlo simulation to forecast 30 years cumulative returns\n",
    "MC_thirtyyear.calc_cumulative_return()\n"
   ]
  },
  {
   "cell_type": "code",
   "execution_count": 43,
   "metadata": {},
   "outputs": [
    {
     "data": {
      "image/png": "[encoded data removed]",
      "text/plain": [
       "<Figure size 640x480 with 1 Axes>"
      ]
     },
     "metadata": {},
     "output_type": "display_data"
    }
   ],
   "source": [
    "# Visualize the 30-year Monte Carlo simulation by creating an\n",
    "# overlay line plot\n",
    "MC_sim_line_plot = MC_thirtyyear.plot_simulation()\n"
   ]
  },
  {
   "cell_type": "markdown",
   "metadata": {},
   "source": [
    "#### Step 3: Plot the probability distribution of the Monte Carlo simulation."
   ]
  },
  {
   "cell_type": "code",
   "execution_count": 44,
   "metadata": {},
   "outputs": [
    {
     "data": {
      "image/png": "[encoded data removed]",
      "text/plain": [
       "<Figure size 640x480 with 1 Axes>"
      ]
     },
     "metadata": {},
     "output_type": "display_data"
    }
   ],
   "source": [
    "# Visualize the probability distribution of the 30-year Monte Carlo simulation \n",
    "# by plotting a histogram\n",
    "MC_sim_dist_plot = MC_thirtyyear.plot_distribution()\n"
   ]
  },
  {
   "cell_type": "markdown",
   "metadata": {},
   "source": [
    "#### Step 4: Generate the summary statistics for the Monte Carlo simulation."
   ]
  },
  {
   "cell_type": "code",
   "execution_count": 48,
   "metadata": {},
   "outputs": [
    {
     "name": "stdout",
     "output_type": "stream",
     "text": [
      "count           500.000000\n",
      "mean             30.049340\n",
      "std              22.394227\n",
      "min               3.051641\n",
      "25%              15.099282\n",
      "50%              24.967531\n",
      "75%              38.314126\n",
      "max             208.672261\n",
      "95% CI Lower      5.780902\n",
      "95% CI Upper     94.891435\n",
      "Name: 7560, dtype: float64\n"
     ]
    }
   ],
   "source": [
    "# Generate summary statistics from the 30-year Monte Carlo simulation results\n",
    "# Save the results as a variable\n",
    "MC_summary_statistics = MC_thirtyyear.summarize_cumulative_return()\n",
    "\n",
    "# Review the 30-year Monte Carlo summary statistics\n",
    "print(MC_summary_statistics)"
   ]
  },
  {
   "cell_type": "markdown",
   "metadata": {},
   "source": [
    "### Analyze the Retirement Portfolio Forecasts\n",
    "\n",
    "Using the current value of only the stock and bond portion of the member's portfolio and the summary statistics that you generated from the Monte Carlo simulation, answer the following question in your Jupyter notebook:\n",
    "\n",
    "-  What are the lower and upper bounds for the expected value of the portfolio with a 95% confidence interval?\n"
   ]
  },
  {
   "cell_type": "code",
   "execution_count": null,
   "metadata": {},
   "outputs": [],
   "source": [
    "# Print the current balance of the stock and bond portion of the members portfolio\n",
    "print(total_stocks_bonds)\n"
   ]
  },
  {
   "cell_type": "code",
   "execution_count": 51,
   "metadata": {},
   "outputs": [
    {
     "name": "stdout",
     "output_type": "stream",
     "text": [
      "There is a 95% chance that an initial investment of $10,000 in the portfolio over the next 5 years will end within in the range of $ 57809.02 and $ 948914.35.\n"
     ]
    }
   ],
   "source": [
    "# Use the lower and upper `95%` confidence intervals to calculate the range of the possible outcomes for the current stock/bond portfolio\n",
    "ci_lower_thirty_cumulative_return = MC_summary_statistics[8] * 10000\n",
    "ci_upper_thirty_cumulative_return = MC_summary_statistics[9] * 10000\n",
    "\n",
    "# Print the result of your calculations\n",
    "print(f\"There is a 95% chance that an initial investment of $10,000 in the portfolio\"\n",
    "    f\" over the next 5 years will end within in the range of\"\n",
    "    f\" ${ci_lower_thirty_cumulative_return: .2f} and ${ci_upper_thirty_cumulative_return: .2f}.\")\n"
   ]
  },
  {
   "cell_type": "markdown",
   "metadata": {},
   "source": [
    "### Forecast Cumulative Returns in 10 Years\n",
    "\n",
    "The CTO of the credit union is impressed with your work on these planning tools but wonders if 30 years is a long time to wait until retirement. So, your next task is to adjust the retirement portfolio and run a new Monte Carlo simulation to find out if the changes will allow members to retire earlier.\n",
    "\n",
    "For this new Monte Carlo simulation, do the following: \n",
    "\n",
    "- Forecast the cumulative returns for 10 years from now. Because of the shortened investment horizon (30 years to 10 years), the portfolio needs to invest more heavily in the riskier asset&mdash;that is, stock&mdash;to help accumulate wealth for retirement. \n",
    "\n",
    "- Adjust the weights of the retirement portfolio so that the composition for the Monte Carlo simulation consists of 20% bonds and 80% stocks. \n",
    "\n",
    "- Run the simulation over 500 samples, and use the same data that the API call to Alpaca generated.\n",
    "\n",
    "- Based on the new Monte Carlo simulation, answer the following questions in your Jupyter notebook:\n",
    "\n",
    "    - Using the current value of only the stock and bond portion of the member's portfolio and the summary statistics that you generated from the new Monte Carlo simulation, what are the lower and upper bounds for the expected value of the portfolio (with the new weights) with a 95% confidence interval?\n",
    "\n",
    "    - Will weighting the portfolio more heavily toward stocks allow the credit union members to retire after only 10 years?\n"
   ]
  },
  {
   "cell_type": "code",
   "execution_count": 52,
   "metadata": {},
   "outputs": [
    {
     "data": {
      "text/html": [
       "<div>\n",
       "<style scoped>\n",
       "    .dataframe tbody tr th:only-of-type {\n",
       "        vertical-align: middle;\n",
       "    }\n",
       "\n",
       "    .dataframe tbody tr th {\n",
       "        vertical-align: top;\n",
       "    }\n",
       "\n",
       "    .dataframe thead tr th {\n",
       "        text-align: left;\n",
       "    }\n",
       "\n",
       "    .dataframe thead tr:last-of-type th {\n",
       "        text-align: right;\n",
       "    }\n",
       "</style>\n",
       "<table border=\"1\" class=\"dataframe\">\n",
       "  <thead>\n",
       "    <tr>\n",
       "      <th></th>\n",
       "      <th colspan=\"8\" halign=\"left\">SPY</th>\n",
       "      <th colspan=\"8\" halign=\"left\">AGG</th>\n",
       "    </tr>\n",
       "    <tr>\n",
       "      <th></th>\n",
       "      <th>open</th>\n",
       "      <th>high</th>\n",
       "      <th>low</th>\n",
       "      <th>close</th>\n",
       "      <th>volume</th>\n",
       "      <th>trade_count</th>\n",
       "      <th>vwap</th>\n",
       "      <th>daily_return</th>\n",
       "      <th>open</th>\n",
       "      <th>high</th>\n",
       "      <th>low</th>\n",
       "      <th>close</th>\n",
       "      <th>volume</th>\n",
       "      <th>trade_count</th>\n",
       "      <th>vwap</th>\n",
       "      <th>daily_return</th>\n",
       "    </tr>\n",
       "    <tr>\n",
       "      <th>timestamp</th>\n",
       "      <th></th>\n",
       "      <th></th>\n",
       "      <th></th>\n",
       "      <th></th>\n",
       "      <th></th>\n",
       "      <th></th>\n",
       "      <th></th>\n",
       "      <th></th>\n",
       "      <th></th>\n",
       "      <th></th>\n",
       "      <th></th>\n",
       "      <th></th>\n",
       "      <th></th>\n",
       "      <th></th>\n",
       "      <th></th>\n",
       "      <th></th>\n",
       "    </tr>\n",
       "  </thead>\n",
       "  <tbody>\n",
       "    <tr>\n",
       "      <th>2020-03-23 04:00:00+00:00</th>\n",
       "      <td>228.19</td>\n",
       "      <td>229.6833</td>\n",
       "      <td>218.26</td>\n",
       "      <td>222.68</td>\n",
       "      <td>326162824</td>\n",
       "      <td>2848120</td>\n",
       "      <td>224.675822</td>\n",
       "      <td>NaN</td>\n",
       "      <td>109.90</td>\n",
       "      <td>112.94</td>\n",
       "      <td>109.0000</td>\n",
       "      <td>112.64</td>\n",
       "      <td>12572180</td>\n",
       "      <td>49893</td>\n",
       "      <td>112.198002</td>\n",
       "      <td>NaN</td>\n",
       "    </tr>\n",
       "    <tr>\n",
       "      <th>2020-03-24 04:00:00+00:00</th>\n",
       "      <td>234.42</td>\n",
       "      <td>244.1000</td>\n",
       "      <td>233.80</td>\n",
       "      <td>242.00</td>\n",
       "      <td>236042267</td>\n",
       "      <td>1625796</td>\n",
       "      <td>237.746063</td>\n",
       "      <td>0.086761</td>\n",
       "      <td>111.52</td>\n",
       "      <td>113.57</td>\n",
       "      <td>111.0754</td>\n",
       "      <td>113.57</td>\n",
       "      <td>10253621</td>\n",
       "      <td>53393</td>\n",
       "      <td>112.992508</td>\n",
       "      <td>0.008256</td>\n",
       "    </tr>\n",
       "    <tr>\n",
       "      <th>2020-03-25 04:00:00+00:00</th>\n",
       "      <td>244.86</td>\n",
       "      <td>256.3500</td>\n",
       "      <td>239.75</td>\n",
       "      <td>246.79</td>\n",
       "      <td>299488281</td>\n",
       "      <td>2166621</td>\n",
       "      <td>247.927974</td>\n",
       "      <td>0.019793</td>\n",
       "      <td>114.00</td>\n",
       "      <td>114.75</td>\n",
       "      <td>113.7000</td>\n",
       "      <td>114.73</td>\n",
       "      <td>10999713</td>\n",
       "      <td>56159</td>\n",
       "      <td>114.344839</td>\n",
       "      <td>0.010214</td>\n",
       "    </tr>\n",
       "    <tr>\n",
       "      <th>2020-03-26 04:00:00+00:00</th>\n",
       "      <td>249.52</td>\n",
       "      <td>262.8000</td>\n",
       "      <td>249.05</td>\n",
       "      <td>260.93</td>\n",
       "      <td>257648210</td>\n",
       "      <td>1886242</td>\n",
       "      <td>255.772313</td>\n",
       "      <td>0.057296</td>\n",
       "      <td>114.20</td>\n",
       "      <td>115.39</td>\n",
       "      <td>114.2000</td>\n",
       "      <td>115.08</td>\n",
       "      <td>16611377</td>\n",
       "      <td>71731</td>\n",
       "      <td>114.896626</td>\n",
       "      <td>0.003051</td>\n",
       "    </tr>\n",
       "    <tr>\n",
       "      <th>2020-03-27 04:00:00+00:00</th>\n",
       "      <td>253.27</td>\n",
       "      <td>260.8100</td>\n",
       "      <td>251.05</td>\n",
       "      <td>254.00</td>\n",
       "      <td>224421276</td>\n",
       "      <td>1672720</td>\n",
       "      <td>255.364836</td>\n",
       "      <td>-0.026559</td>\n",
       "      <td>114.78</td>\n",
       "      <td>115.58</td>\n",
       "      <td>114.5300</td>\n",
       "      <td>115.58</td>\n",
       "      <td>10841700</td>\n",
       "      <td>38025</td>\n",
       "      <td>115.289309</td>\n",
       "      <td>0.004345</td>\n",
       "    </tr>\n",
       "  </tbody>\n",
       "</table>\n",
       "</div>"
      ],
      "text/plain": [
       "                              SPY                                       \\\n",
       "                             open      high     low   close     volume   \n",
       "timestamp                                                                \n",
       "2020-03-23 04:00:00+00:00  228.19  229.6833  218.26  222.68  326162824   \n",
       "2020-03-24 04:00:00+00:00  234.42  244.1000  233.80  242.00  236042267   \n",
       "2020-03-25 04:00:00+00:00  244.86  256.3500  239.75  246.79  299488281   \n",
       "2020-03-26 04:00:00+00:00  249.52  262.8000  249.05  260.93  257648210   \n",
       "2020-03-27 04:00:00+00:00  253.27  260.8100  251.05  254.00  224421276   \n",
       "\n",
       "                                                                   AGG  \\\n",
       "                          trade_count        vwap daily_return    open   \n",
       "timestamp                                                                \n",
       "2020-03-23 04:00:00+00:00     2848120  224.675822          NaN  109.90   \n",
       "2020-03-24 04:00:00+00:00     1625796  237.746063     0.086761  111.52   \n",
       "2020-03-25 04:00:00+00:00     2166621  247.927974     0.019793  114.00   \n",
       "2020-03-26 04:00:00+00:00     1886242  255.772313     0.057296  114.20   \n",
       "2020-03-27 04:00:00+00:00     1672720  255.364836    -0.026559  114.78   \n",
       "\n",
       "                                                                           \\\n",
       "                             high       low   close    volume trade_count   \n",
       "timestamp                                                                   \n",
       "2020-03-23 04:00:00+00:00  112.94  109.0000  112.64  12572180       49893   \n",
       "2020-03-24 04:00:00+00:00  113.57  111.0754  113.57  10253621       53393   \n",
       "2020-03-25 04:00:00+00:00  114.75  113.7000  114.73  10999713       56159   \n",
       "2020-03-26 04:00:00+00:00  115.39  114.2000  115.08  16611377       71731   \n",
       "2020-03-27 04:00:00+00:00  115.58  114.5300  115.58  10841700       38025   \n",
       "\n",
       "                                                    \n",
       "                                 vwap daily_return  \n",
       "timestamp                                           \n",
       "2020-03-23 04:00:00+00:00  112.198002          NaN  \n",
       "2020-03-24 04:00:00+00:00  112.992508     0.008256  \n",
       "2020-03-25 04:00:00+00:00  114.344839     0.010214  \n",
       "2020-03-26 04:00:00+00:00  114.896626     0.003051  \n",
       "2020-03-27 04:00:00+00:00  115.289309     0.004345  "
      ]
     },
     "execution_count": 52,
     "metadata": {},
     "output_type": "execute_result"
    }
   ],
   "source": [
    "# Configure a Monte Carlo simulation to forecast 10 years cumulative returns\n",
    "# The weights should be split 20% to AGG and 80% to SPY.\n",
    "# Run 500 samples.\n",
    "from MCForecastTools import MCSimulation\n",
    "MC_tenyear = MCSimulation(\n",
    "    portfolio_data = portfolio_close_df,\n",
    "    weights = [.80,.20],\n",
    "    num_simulation = 500,\n",
    "    num_trading_days = 252*10\n",
    ")\n",
    "\n",
    "# Review the simulation input data\n",
    "MC_tenyear.portfolio_data.head()\n"
   ]
  },
  {
   "cell_type": "code",
   "execution_count": 53,
   "metadata": {},
   "outputs": [
    {
     "name": "stdout",
     "output_type": "stream",
     "text": [
      "Running Monte Carlo simulation number 0.\n",
      "Running Monte Carlo simulation number 10.\n",
      "Running Monte Carlo simulation number 20.\n",
      "Running Monte Carlo simulation number 30.\n",
      "Running Monte Carlo simulation number 40.\n",
      "Running Monte Carlo simulation number 50.\n",
      "Running Monte Carlo simulation number 60.\n",
      "Running Monte Carlo simulation number 70.\n",
      "Running Monte Carlo simulation number 80.\n",
      "Running Monte Carlo simulation number 90.\n",
      "Running Monte Carlo simulation number 100.\n"
     ]
    },
    {
     "name": "stderr",
     "output_type": "stream",
     "text": [
      "C:\\Users\\Afsaneh\\challenge5\\Starter_Code\\MCForecastTools.py:117: PerformanceWarning: DataFrame is highly fragmented.  This is usually the result of calling `frame.insert` many times, which has poor performance.  Consider joining all columns at once using pd.concat(axis=1) instead.  To get a de-fragmented frame, use `newframe = frame.copy()`\n",
      "  portfolio_cumulative_returns[n] = (1 + sim_df.fillna(0)).cumprod()\n"
     ]
    },
    {
     "name": "stdout",
     "output_type": "stream",
     "text": [
      "Running Monte Carlo simulation number 110.\n",
      "Running Monte Carlo simulation number 120.\n",
      "Running Monte Carlo simulation number 130.\n",
      "Running Monte Carlo simulation number 140.\n",
      "Running Monte Carlo simulation number 150.\n",
      "Running Monte Carlo simulation number 160.\n",
      "Running Monte Carlo simulation number 170.\n",
      "Running Monte Carlo simulation number 180.\n",
      "Running Monte Carlo simulation number 190.\n",
      "Running Monte Carlo simulation number 200.\n",
      "Running Monte Carlo simulation number 210.\n",
      "Running Monte Carlo simulation number 220.\n",
      "Running Monte Carlo simulation number 230.\n",
      "Running Monte Carlo simulation number 240.\n",
      "Running Monte Carlo simulation number 250.\n",
      "Running Monte Carlo simulation number 260.\n",
      "Running Monte Carlo simulation number 270.\n",
      "Running Monte Carlo simulation number 280.\n",
      "Running Monte Carlo simulation number 290.\n",
      "Running Monte Carlo simulation number 300.\n",
      "Running Monte Carlo simulation number 310.\n",
      "Running Monte Carlo simulation number 320.\n",
      "Running Monte Carlo simulation number 330.\n",
      "Running Monte Carlo simulation number 340.\n",
      "Running Monte Carlo simulation number 350.\n",
      "Running Monte Carlo simulation number 360.\n",
      "Running Monte Carlo simulation number 370.\n",
      "Running Monte Carlo simulation number 380.\n",
      "Running Monte Carlo simulation number 390.\n",
      "Running Monte Carlo simulation number 400.\n",
      "Running Monte Carlo simulation number 410.\n",
      "Running Monte Carlo simulation number 420.\n",
      "Running Monte Carlo simulation number 430.\n",
      "Running Monte Carlo simulation number 440.\n",
      "Running Monte Carlo simulation number 450.\n",
      "Running Monte Carlo simulation number 460.\n",
      "Running Monte Carlo simulation number 470.\n",
      "Running Monte Carlo simulation number 480.\n",
      "Running Monte Carlo simulation number 490.\n"
     ]
    },
    {
     "data": {
      "text/html": [
       "<div>\n",
       "<style scoped>\n",
       "    .dataframe tbody tr th:only-of-type {\n",
       "        vertical-align: middle;\n",
       "    }\n",
       "\n",
       "    .dataframe tbody tr th {\n",
       "        vertical-align: top;\n",
       "    }\n",
       "\n",
       "    .dataframe thead th {\n",
       "        text-align: right;\n",
       "    }\n",
       "</style>\n",
       "<table border=\"1\" class=\"dataframe\">\n",
       "  <thead>\n",
       "    <tr style=\"text-align: right;\">\n",
       "      <th></th>\n",
       "      <th>0</th>\n",
       "      <th>1</th>\n",
       "      <th>2</th>\n",
       "      <th>3</th>\n",
       "      <th>4</th>\n",
       "      <th>5</th>\n",
       "      <th>6</th>\n",
       "      <th>7</th>\n",
       "      <th>8</th>\n",
       "      <th>9</th>\n",
       "      <th>...</th>\n",
       "      <th>490</th>\n",
       "      <th>491</th>\n",
       "      <th>492</th>\n",
       "      <th>493</th>\n",
       "      <th>494</th>\n",
       "      <th>495</th>\n",
       "      <th>496</th>\n",
       "      <th>497</th>\n",
       "      <th>498</th>\n",
       "      <th>499</th>\n",
       "    </tr>\n",
       "  </thead>\n",
       "  <tbody>\n",
       "    <tr>\n",
       "      <th>0</th>\n",
       "      <td>1.000000</td>\n",
       "      <td>1.000000</td>\n",
       "      <td>1.000000</td>\n",
       "      <td>1.000000</td>\n",
       "      <td>1.000000</td>\n",
       "      <td>1.000000</td>\n",
       "      <td>1.000000</td>\n",
       "      <td>1.000000</td>\n",
       "      <td>1.000000</td>\n",
       "      <td>1.000000</td>\n",
       "      <td>...</td>\n",
       "      <td>1.000000</td>\n",
       "      <td>1.000000</td>\n",
       "      <td>1.000000</td>\n",
       "      <td>1.000000</td>\n",
       "      <td>1.000000</td>\n",
       "      <td>1.000000</td>\n",
       "      <td>1.000000</td>\n",
       "      <td>1.000000</td>\n",
       "      <td>1.000000</td>\n",
       "      <td>1.000000</td>\n",
       "    </tr>\n",
       "    <tr>\n",
       "      <th>1</th>\n",
       "      <td>0.983770</td>\n",
       "      <td>1.003450</td>\n",
       "      <td>0.981661</td>\n",
       "      <td>0.997808</td>\n",
       "      <td>1.014617</td>\n",
       "      <td>1.000806</td>\n",
       "      <td>1.019138</td>\n",
       "      <td>0.992560</td>\n",
       "      <td>1.000196</td>\n",
       "      <td>1.002201</td>\n",
       "      <td>...</td>\n",
       "      <td>0.994793</td>\n",
       "      <td>0.981969</td>\n",
       "      <td>0.994404</td>\n",
       "      <td>0.984342</td>\n",
       "      <td>0.986498</td>\n",
       "      <td>1.007560</td>\n",
       "      <td>0.992205</td>\n",
       "      <td>0.978623</td>\n",
       "      <td>1.005498</td>\n",
       "      <td>0.994784</td>\n",
       "    </tr>\n",
       "    <tr>\n",
       "      <th>2</th>\n",
       "      <td>0.993862</td>\n",
       "      <td>1.007437</td>\n",
       "      <td>0.972454</td>\n",
       "      <td>1.004744</td>\n",
       "      <td>1.012568</td>\n",
       "      <td>0.979313</td>\n",
       "      <td>1.006857</td>\n",
       "      <td>0.995811</td>\n",
       "      <td>1.010349</td>\n",
       "      <td>1.004968</td>\n",
       "      <td>...</td>\n",
       "      <td>0.987523</td>\n",
       "      <td>1.000212</td>\n",
       "      <td>0.991905</td>\n",
       "      <td>0.997376</td>\n",
       "      <td>0.998347</td>\n",
       "      <td>1.006601</td>\n",
       "      <td>0.983781</td>\n",
       "      <td>0.975766</td>\n",
       "      <td>0.982100</td>\n",
       "      <td>1.015044</td>\n",
       "    </tr>\n",
       "    <tr>\n",
       "      <th>3</th>\n",
       "      <td>0.997227</td>\n",
       "      <td>0.994928</td>\n",
       "      <td>0.958152</td>\n",
       "      <td>1.020845</td>\n",
       "      <td>1.020850</td>\n",
       "      <td>0.962796</td>\n",
       "      <td>1.005482</td>\n",
       "      <td>1.001536</td>\n",
       "      <td>1.012844</td>\n",
       "      <td>1.012411</td>\n",
       "      <td>...</td>\n",
       "      <td>0.999432</td>\n",
       "      <td>0.981696</td>\n",
       "      <td>0.983513</td>\n",
       "      <td>0.993942</td>\n",
       "      <td>1.003598</td>\n",
       "      <td>1.019910</td>\n",
       "      <td>0.996091</td>\n",
       "      <td>0.967928</td>\n",
       "      <td>0.990838</td>\n",
       "      <td>1.024892</td>\n",
       "    </tr>\n",
       "    <tr>\n",
       "      <th>4</th>\n",
       "      <td>1.001076</td>\n",
       "      <td>0.992104</td>\n",
       "      <td>0.953016</td>\n",
       "      <td>1.014208</td>\n",
       "      <td>1.031233</td>\n",
       "      <td>0.958828</td>\n",
       "      <td>0.988146</td>\n",
       "      <td>1.002370</td>\n",
       "      <td>1.007556</td>\n",
       "      <td>1.027868</td>\n",
       "      <td>...</td>\n",
       "      <td>0.991850</td>\n",
       "      <td>0.965876</td>\n",
       "      <td>0.978424</td>\n",
       "      <td>0.999381</td>\n",
       "      <td>1.011877</td>\n",
       "      <td>1.020973</td>\n",
       "      <td>0.996487</td>\n",
       "      <td>0.978632</td>\n",
       "      <td>0.978052</td>\n",
       "      <td>1.004456</td>\n",
       "    </tr>\n",
       "    <tr>\n",
       "      <th>...</th>\n",
       "      <td>...</td>\n",
       "      <td>...</td>\n",
       "      <td>...</td>\n",
       "      <td>...</td>\n",
       "      <td>...</td>\n",
       "      <td>...</td>\n",
       "      <td>...</td>\n",
       "      <td>...</td>\n",
       "      <td>...</td>\n",
       "      <td>...</td>\n",
       "      <td>...</td>\n",
       "      <td>...</td>\n",
       "      <td>...</td>\n",
       "      <td>...</td>\n",
       "      <td>...</td>\n",
       "      <td>...</td>\n",
       "      <td>...</td>\n",
       "      <td>...</td>\n",
       "      <td>...</td>\n",
       "      <td>...</td>\n",
       "      <td>...</td>\n",
       "    </tr>\n",
       "    <tr>\n",
       "      <th>2516</th>\n",
       "      <td>6.177260</td>\n",
       "      <td>3.013847</td>\n",
       "      <td>3.830023</td>\n",
       "      <td>4.809369</td>\n",
       "      <td>8.615969</td>\n",
       "      <td>8.190203</td>\n",
       "      <td>4.389325</td>\n",
       "      <td>8.532146</td>\n",
       "      <td>4.121224</td>\n",
       "      <td>9.071586</td>\n",
       "      <td>...</td>\n",
       "      <td>3.947322</td>\n",
       "      <td>3.612796</td>\n",
       "      <td>5.712518</td>\n",
       "      <td>11.644501</td>\n",
       "      <td>12.077578</td>\n",
       "      <td>5.408181</td>\n",
       "      <td>4.986441</td>\n",
       "      <td>5.251942</td>\n",
       "      <td>4.520616</td>\n",
       "      <td>1.708625</td>\n",
       "    </tr>\n",
       "    <tr>\n",
       "      <th>2517</th>\n",
       "      <td>6.187816</td>\n",
       "      <td>2.935263</td>\n",
       "      <td>3.890536</td>\n",
       "      <td>4.843569</td>\n",
       "      <td>8.670687</td>\n",
       "      <td>8.264672</td>\n",
       "      <td>4.442079</td>\n",
       "      <td>8.634922</td>\n",
       "      <td>4.096300</td>\n",
       "      <td>9.144039</td>\n",
       "      <td>...</td>\n",
       "      <td>4.002274</td>\n",
       "      <td>3.597296</td>\n",
       "      <td>5.684421</td>\n",
       "      <td>11.660023</td>\n",
       "      <td>11.975727</td>\n",
       "      <td>5.448857</td>\n",
       "      <td>4.960373</td>\n",
       "      <td>5.268184</td>\n",
       "      <td>4.453195</td>\n",
       "      <td>1.722227</td>\n",
       "    </tr>\n",
       "    <tr>\n",
       "      <th>2518</th>\n",
       "      <td>6.166458</td>\n",
       "      <td>2.927092</td>\n",
       "      <td>3.897923</td>\n",
       "      <td>4.815183</td>\n",
       "      <td>8.703060</td>\n",
       "      <td>8.321584</td>\n",
       "      <td>4.453336</td>\n",
       "      <td>8.645325</td>\n",
       "      <td>4.090804</td>\n",
       "      <td>9.172826</td>\n",
       "      <td>...</td>\n",
       "      <td>3.970054</td>\n",
       "      <td>3.602170</td>\n",
       "      <td>5.708151</td>\n",
       "      <td>11.512203</td>\n",
       "      <td>11.855029</td>\n",
       "      <td>5.460324</td>\n",
       "      <td>4.903691</td>\n",
       "      <td>5.296468</td>\n",
       "      <td>4.464223</td>\n",
       "      <td>1.682422</td>\n",
       "    </tr>\n",
       "    <tr>\n",
       "      <th>2519</th>\n",
       "      <td>6.184402</td>\n",
       "      <td>2.930692</td>\n",
       "      <td>3.957389</td>\n",
       "      <td>4.847988</td>\n",
       "      <td>8.826813</td>\n",
       "      <td>8.293099</td>\n",
       "      <td>4.415335</td>\n",
       "      <td>8.606752</td>\n",
       "      <td>4.135293</td>\n",
       "      <td>9.185211</td>\n",
       "      <td>...</td>\n",
       "      <td>3.937334</td>\n",
       "      <td>3.617595</td>\n",
       "      <td>5.691348</td>\n",
       "      <td>11.591919</td>\n",
       "      <td>11.738582</td>\n",
       "      <td>5.534244</td>\n",
       "      <td>4.885991</td>\n",
       "      <td>5.298751</td>\n",
       "      <td>4.417117</td>\n",
       "      <td>1.686448</td>\n",
       "    </tr>\n",
       "    <tr>\n",
       "      <th>2520</th>\n",
       "      <td>6.125126</td>\n",
       "      <td>2.902618</td>\n",
       "      <td>3.990725</td>\n",
       "      <td>4.847248</td>\n",
       "      <td>8.976553</td>\n",
       "      <td>8.325276</td>\n",
       "      <td>4.427793</td>\n",
       "      <td>8.650587</td>\n",
       "      <td>4.146811</td>\n",
       "      <td>9.088705</td>\n",
       "      <td>...</td>\n",
       "      <td>3.938137</td>\n",
       "      <td>3.602629</td>\n",
       "      <td>5.681530</td>\n",
       "      <td>11.704399</td>\n",
       "      <td>11.588871</td>\n",
       "      <td>5.472608</td>\n",
       "      <td>4.919659</td>\n",
       "      <td>5.356119</td>\n",
       "      <td>4.481278</td>\n",
       "      <td>1.667713</td>\n",
       "    </tr>\n",
       "  </tbody>\n",
       "</table>\n",
       "<p>2521 rows × 500 columns</p>\n",
       "</div>"
      ],
      "text/plain": [
       "           0         1         2         3         4         5         6    \\\n",
       "0     1.000000  1.000000  1.000000  1.000000  1.000000  1.000000  1.000000   \n",
       "1     0.983770  1.003450  0.981661  0.997808  1.014617  1.000806  1.019138   \n",
       "2     0.993862  1.007437  0.972454  1.004744  1.012568  0.979313  1.006857   \n",
       "3     0.997227  0.994928  0.958152  1.020845  1.020850  0.962796  1.005482   \n",
       "4     1.001076  0.992104  0.953016  1.014208  1.031233  0.958828  0.988146   \n",
       "...        ...       ...       ...       ...       ...       ...       ...   \n",
       "2516  6.177260  3.013847  3.830023  4.809369  8.615969  8.190203  4.389325   \n",
       "2517  6.187816  2.935263  3.890536  4.843569  8.670687  8.264672  4.442079   \n",
       "2518  6.166458  2.927092  3.897923  4.815183  8.703060  8.321584  4.453336   \n",
       "2519  6.184402  2.930692  3.957389  4.847988  8.826813  8.293099  4.415335   \n",
       "2520  6.125126  2.902618  3.990725  4.847248  8.976553  8.325276  4.427793   \n",
       "\n",
       "           7         8         9    ...       490       491       492  \\\n",
       "0     1.000000  1.000000  1.000000  ...  1.000000  1.000000  1.000000   \n",
       "1     0.992560  1.000196  1.002201  ...  0.994793  0.981969  0.994404   \n",
       "2     0.995811  1.010349  1.004968  ...  0.987523  1.000212  0.991905   \n",
       "3     1.001536  1.012844  1.012411  ...  0.999432  0.981696  0.983513   \n",
       "4     1.002370  1.007556  1.027868  ...  0.991850  0.965876  0.978424   \n",
       "...        ...       ...       ...  ...       ...       ...       ...   \n",
       "2516  8.532146  4.121224  9.071586  ...  3.947322  3.612796  5.712518   \n",
       "2517  8.634922  4.096300  9.144039  ...  4.002274  3.597296  5.684421   \n",
       "2518  8.645325  4.090804  9.172826  ...  3.970054  3.602170  5.708151   \n",
       "2519  8.606752  4.135293  9.185211  ...  3.937334  3.617595  5.691348   \n",
       "2520  8.650587  4.146811  9.088705  ...  3.938137  3.602629  5.681530   \n",
       "\n",
       "            493        494       495       496       497       498       499  \n",
       "0      1.000000   1.000000  1.000000  1.000000  1.000000  1.000000  1.000000  \n",
       "1      0.984342   0.986498  1.007560  0.992205  0.978623  1.005498  0.994784  \n",
       "2      0.997376   0.998347  1.006601  0.983781  0.975766  0.982100  1.015044  \n",
       "3      0.993942   1.003598  1.019910  0.996091  0.967928  0.990838  1.024892  \n",
       "4      0.999381   1.011877  1.020973  0.996487  0.978632  0.978052  1.004456  \n",
       "...         ...        ...       ...       ...       ...       ...       ...  \n",
       "2516  11.644501  12.077578  5.408181  4.986441  5.251942  4.520616  1.708625  \n",
       "2517  11.660023  11.975727  5.448857  4.960373  5.268184  4.453195  1.722227  \n",
       "2518  11.512203  11.855029  5.460324  4.903691  5.296468  4.464223  1.682422  \n",
       "2519  11.591919  11.738582  5.534244  4.885991  5.298751  4.417117  1.686448  \n",
       "2520  11.704399  11.588871  5.472608  4.919659  5.356119  4.481278  1.667713  \n",
       "\n",
       "[2521 rows x 500 columns]"
      ]
     },
     "execution_count": 53,
     "metadata": {},
     "output_type": "execute_result"
    }
   ],
   "source": [
    "# Run the Monte Carlo simulation to forecast 10 years cumulative returns\n",
    "MC_tenyear.calc_cumulative_return()\n"
   ]
  },
  {
   "cell_type": "code",
   "execution_count": 54,
   "metadata": {},
   "outputs": [
    {
     "data": {
      "image/png": "[encoded data removed]",
      "text/plain": [
       "<Figure size 640x480 with 1 Axes>"
      ]
     },
     "metadata": {},
     "output_type": "display_data"
    }
   ],
   "source": [
    "# Visualize the 10-year Monte Carlo simulation by creating an\n",
    "# overlay line plot\n",
    "MC_sim_line_plot = MC_tenyear.plot_simulation()\n"
   ]
  },
  {
   "cell_type": "code",
   "execution_count": 55,
   "metadata": {},
   "outputs": [
    {
     "name": "stdout",
     "output_type": "stream",
     "text": [
      "Running Monte Carlo simulation number 0.\n",
      "Running Monte Carlo simulation number 10.\n",
      "Running Monte Carlo simulation number 20.\n",
      "Running Monte Carlo simulation number 30.\n",
      "Running Monte Carlo simulation number 40.\n",
      "Running Monte Carlo simulation number 50.\n",
      "Running Monte Carlo simulation number 60.\n",
      "Running Monte Carlo simulation number 70.\n",
      "Running Monte Carlo simulation number 80.\n",
      "Running Monte Carlo simulation number 90.\n",
      "Running Monte Carlo simulation number 100.\n"
     ]
    },
    {
     "name": "stderr",
     "output_type": "stream",
     "text": [
      "C:\\Users\\Afsaneh\\challenge5\\Starter_Code\\MCForecastTools.py:117: PerformanceWarning: DataFrame is highly fragmented.  This is usually the result of calling `frame.insert` many times, which has poor performance.  Consider joining all columns at once using pd.concat(axis=1) instead.  To get a de-fragmented frame, use `newframe = frame.copy()`\n",
      "  portfolio_cumulative_returns[n] = (1 + sim_df.fillna(0)).cumprod()\n"
     ]
    },
    {
     "name": "stdout",
     "output_type": "stream",
     "text": [
      "Running Monte Carlo simulation number 110.\n",
      "Running Monte Carlo simulation number 120.\n",
      "Running Monte Carlo simulation number 130.\n",
      "Running Monte Carlo simulation number 140.\n",
      "Running Monte Carlo simulation number 150.\n",
      "Running Monte Carlo simulation number 160.\n",
      "Running Monte Carlo simulation number 170.\n",
      "Running Monte Carlo simulation number 180.\n",
      "Running Monte Carlo simulation number 190.\n",
      "Running Monte Carlo simulation number 200.\n",
      "Running Monte Carlo simulation number 210.\n",
      "Running Monte Carlo simulation number 220.\n",
      "Running Monte Carlo simulation number 230.\n",
      "Running Monte Carlo simulation number 240.\n",
      "Running Monte Carlo simulation number 250.\n",
      "Running Monte Carlo simulation number 260.\n",
      "Running Monte Carlo simulation number 270.\n",
      "Running Monte Carlo simulation number 280.\n",
      "Running Monte Carlo simulation number 290.\n",
      "Running Monte Carlo simulation number 300.\n",
      "Running Monte Carlo simulation number 310.\n",
      "Running Monte Carlo simulation number 320.\n",
      "Running Monte Carlo simulation number 330.\n",
      "Running Monte Carlo simulation number 340.\n",
      "Running Monte Carlo simulation number 350.\n",
      "Running Monte Carlo simulation number 360.\n",
      "Running Monte Carlo simulation number 370.\n",
      "Running Monte Carlo simulation number 380.\n",
      "Running Monte Carlo simulation number 390.\n",
      "Running Monte Carlo simulation number 400.\n",
      "Running Monte Carlo simulation number 410.\n",
      "Running Monte Carlo simulation number 420.\n",
      "Running Monte Carlo simulation number 430.\n",
      "Running Monte Carlo simulation number 440.\n",
      "Running Monte Carlo simulation number 450.\n",
      "Running Monte Carlo simulation number 460.\n",
      "Running Monte Carlo simulation number 470.\n",
      "Running Monte Carlo simulation number 480.\n",
      "Running Monte Carlo simulation number 490.\n"
     ]
    },
    {
     "data": {
      "image/png": "[encoded data removed]",
      "text/plain": [
       "<Figure size 640x480 with 1 Axes>"
      ]
     },
     "metadata": {},
     "output_type": "display_data"
    }
   ],
   "source": [
    "# Visualize the probability distribution of the 10-year Monte Carlo simulation \n",
    "# by plotting a histogram\n",
    "MC_sim_dist_plot = MC_thirtyyear.plot_distribution()\n"
   ]
  },
  {
   "cell_type": "code",
   "execution_count": 59,
   "metadata": {},
   "outputs": [
    {
     "name": "stdout",
     "output_type": "stream",
     "text": [
      "count           500.000000\n",
      "mean              5.147468\n",
      "std               2.923866\n",
      "min               0.925010\n",
      "25%               2.996596\n",
      "50%               4.318638\n",
      "75%               6.506921\n",
      "max              19.956088\n",
      "95% CI Lower      1.696649\n",
      "95% CI Upper     12.524639\n",
      "Name: 2520, dtype: float64\n"
     ]
    }
   ],
   "source": [
    "# Generate summary statistics from the 10-year Monte Carlo simulation results\n",
    "# Save the results as a variable\n",
    "MC_summary_statistics = MC_tenyear.summarize_cumulative_return()\n",
    "\n",
    "# Review the 10-year Monte Carlo summary statistics\n",
    "print(MC_summary_statistics)"
   ]
  },
  {
   "cell_type": "markdown",
   "metadata": {},
   "source": [
    "### Answer the following questions:"
   ]
  },
  {
   "cell_type": "markdown",
   "metadata": {},
   "source": [
    "#### Question: Using the current value of only the stock and bond portion of the member's portfolio and the summary statistics that you generated from the new Monte Carlo simulation, what are the lower and upper bounds for the expected value of the portfolio (with the new weights) with a 95% confidence interval?"
   ]
  },
  {
   "cell_type": "code",
   "execution_count": 60,
   "metadata": {},
   "outputs": [
    {
     "name": "stdout",
     "output_type": "stream",
     "text": [
      "63640.100000000006\n"
     ]
    }
   ],
   "source": [
    "# Print the current balance of the stock and bond portion of the members portfolio\n",
    "print(total_stocks_bonds)\n"
   ]
  },
  {
   "cell_type": "code",
   "execution_count": 61,
   "metadata": {},
   "outputs": [
    {
     "name": "stdout",
     "output_type": "stream",
     "text": [
      "There is a 95% chance that an initial investment of $10,000 in the portfolio over the next 5 years will end within in the range of $ 16966.49 and $ 125246.39.\n"
     ]
    }
   ],
   "source": [
    "# Use the lower and upper `95%` confidence intervals to calculate the range of the possible outcomes for the current stock/bond portfolio\n",
    "ci_lower_ten_cumulative_return = MC_summary_statistics[8] * 10000\n",
    "ci_upper_ten_cumulative_return = MC_summary_statistics[9] * 10000\n",
    "\n",
    "\n",
    "# Print the result of your calculations\n",
    "print(f\"There is a 95% chance that an initial investment of $10,000 in the portfolio\"\n",
    "    f\" over the next 5 years will end within in the range of\"\n",
    "    f\" ${ci_lower_ten_cumulative_return: .2f} and ${ci_upper_ten_cumulative_return: .2f}.\")"
   ]
  },
  {
   "cell_type": "markdown",
   "metadata": {},
   "source": [
    "#### Question: Will weighting the portfolio more heavily to stocks allow the credit union members to retire after only 10 years?"
   ]
  },
  {
   "cell_type": "raw",
   "metadata": {},
   "source": [
    "**Answer** not really, time in the market is more important than investing in stock vs bond. "
   ]
  },
  {
   "cell_type": "code",
   "execution_count": 67,
   "metadata": {},
   "outputs": [
    {
     "data": {
      "text/plain": [
       "'C:\\\\Users\\\\Afsaneh\\\\challenge5\\\\Starter_Code'"
      ]
     },
     "execution_count": 67,
     "metadata": {},
     "output_type": "execute_result"
    }
   ],
   "source": [
    "pwd"
   ]
  },
  {
   "cell_type": "code",
   "execution_count": null,
   "metadata": {},
   "outputs": [],
   "source": []
  },
  {
   "cell_type": "code",
   "execution_count": null,
   "metadata": {},
   "outputs": [],
   "source": []
  }
 ],
 "metadata": {
  "kernelspec": {
   "display_name": "Python 3 (ipykernel)",
   "language": "python",
   "name": "python3"
  },
  "language_info": {
   "codemirror_mode": {
    "name": "ipython",
    "version": 3
   },
   "file_extension": ".py",
   "mimetype": "text/x-python",
   "name": "python",
   "nbconvert_exporter": "python",
   "pygments_lexer": "ipython3",
   "version": "3.7.13"
  }
 },
 "nbformat": 4,
 "nbformat_minor": 4
}
